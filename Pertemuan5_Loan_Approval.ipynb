{
  "cells": [
    {
      "cell_type": "markdown",
      "metadata": {
        "id": "r5XqBIp_IYW5"
      },
      "source": [
        " ## PERTEMUAN 5\n",
        " ## Building, Tuning, dan Deploying Model Machine Learning\n",
        "\n",
        "\n",
        "*   Nama : Kinanti Anggraeni\n",
        "*   NIM : 4112322010\n",
        "\n"
      ]
    },
    {
      "cell_type": "markdown",
      "metadata": {
        "id": "HYLJH33ozYsK"
      },
      "source": [
        "### Import Library\n"
      ]
    },
    {
      "cell_type": "code",
      "execution_count": 1,
      "metadata": {
        "id": "TOEgi8JmKamF"
      },
      "outputs": [],
      "source": [
        "import pandas as pd\n",
        "import numpy as np\n",
        "import seaborn as sns\n",
        "import matplotlib.pyplot as plt\n",
        "from sklearn.model_selection import train_test_split, GridSearchCV\n",
        "from sklearn.preprocessing import StandardScaler\n",
        "from sklearn.ensemble import RandomForestClassifier\n",
        "from sklearn.linear_model import LogisticRegression\n",
        "from sklearn.svm import SVC\n",
        "from xgboost import XGBClassifier\n",
        "from sklearn.metrics import accuracy_score, classification_report, precision_score, recall_score, f1_score, confusion_matrix"
      ]
    },
    {
      "cell_type": "markdown",
      "metadata": {
        "id": "3LQAIgnuzWu8"
      },
      "source": [
        "### 1. Eksplorasi Data\n",
        "\n",
        "*   Identifikasi apakah terdapat missing values dalam dataset.\n",
        "*   Visualisasikan data\n",
        "\n"
      ]
    },
    {
      "cell_type": "code",
      "execution_count": 2,
      "metadata": {
        "colab": {
          "base_uri": "https://localhost:8080/",
          "height": 443
        },
        "id": "BcgzkHEqINcV",
        "outputId": "e818bd3e-a714-4782-b06c-2ee3d1f3f243"
      },
      "outputs": [
        {
          "output_type": "execute_result",
          "data": {
            "text/plain": [
              "     Age  Income Education_Level  Credit_Score  Loan_Amount Loan_Purpose  \\\n",
              "0     56   24000             PhD           333        26892     Personal   \n",
              "1     46   90588          Master           316        26619         Home   \n",
              "2     32  113610             PhD           452         1281     Personal   \n",
              "3     60  117856     High School           677        28420     Personal   \n",
              "4     25   58304             PhD           641        16360          Car   \n",
              "..   ...     ...             ...           ...          ...          ...   \n",
              "495   37  108236     High School           455        44668    Education   \n",
              "496   41  117579        Bachelor           666        24177          Car   \n",
              "497   29   26469             PhD           550        25022      Medical   \n",
              "498   52   50105     High School           633        41761      Medical   \n",
              "499   50   62101        Bachelor           810         6542         Home   \n",
              "\n",
              "     Loan_Approval  \n",
              "0                0  \n",
              "1                1  \n",
              "2                1  \n",
              "3                0  \n",
              "4                0  \n",
              "..             ...  \n",
              "495              1  \n",
              "496              1  \n",
              "497              0  \n",
              "498              0  \n",
              "499              1  \n",
              "\n",
              "[500 rows x 7 columns]"
            ],
            "text/html": [
              "\n",
              "  <div id=\"df-81307402-c571-4180-8b04-8123d267c03c\" class=\"colab-df-container\">\n",
              "    <div>\n",
              "<style scoped>\n",
              "    .dataframe tbody tr th:only-of-type {\n",
              "        vertical-align: middle;\n",
              "    }\n",
              "\n",
              "    .dataframe tbody tr th {\n",
              "        vertical-align: top;\n",
              "    }\n",
              "\n",
              "    .dataframe thead th {\n",
              "        text-align: right;\n",
              "    }\n",
              "</style>\n",
              "<table border=\"1\" class=\"dataframe\">\n",
              "  <thead>\n",
              "    <tr style=\"text-align: right;\">\n",
              "      <th></th>\n",
              "      <th>Age</th>\n",
              "      <th>Income</th>\n",
              "      <th>Education_Level</th>\n",
              "      <th>Credit_Score</th>\n",
              "      <th>Loan_Amount</th>\n",
              "      <th>Loan_Purpose</th>\n",
              "      <th>Loan_Approval</th>\n",
              "    </tr>\n",
              "  </thead>\n",
              "  <tbody>\n",
              "    <tr>\n",
              "      <th>0</th>\n",
              "      <td>56</td>\n",
              "      <td>24000</td>\n",
              "      <td>PhD</td>\n",
              "      <td>333</td>\n",
              "      <td>26892</td>\n",
              "      <td>Personal</td>\n",
              "      <td>0</td>\n",
              "    </tr>\n",
              "    <tr>\n",
              "      <th>1</th>\n",
              "      <td>46</td>\n",
              "      <td>90588</td>\n",
              "      <td>Master</td>\n",
              "      <td>316</td>\n",
              "      <td>26619</td>\n",
              "      <td>Home</td>\n",
              "      <td>1</td>\n",
              "    </tr>\n",
              "    <tr>\n",
              "      <th>2</th>\n",
              "      <td>32</td>\n",
              "      <td>113610</td>\n",
              "      <td>PhD</td>\n",
              "      <td>452</td>\n",
              "      <td>1281</td>\n",
              "      <td>Personal</td>\n",
              "      <td>1</td>\n",
              "    </tr>\n",
              "    <tr>\n",
              "      <th>3</th>\n",
              "      <td>60</td>\n",
              "      <td>117856</td>\n",
              "      <td>High School</td>\n",
              "      <td>677</td>\n",
              "      <td>28420</td>\n",
              "      <td>Personal</td>\n",
              "      <td>0</td>\n",
              "    </tr>\n",
              "    <tr>\n",
              "      <th>4</th>\n",
              "      <td>25</td>\n",
              "      <td>58304</td>\n",
              "      <td>PhD</td>\n",
              "      <td>641</td>\n",
              "      <td>16360</td>\n",
              "      <td>Car</td>\n",
              "      <td>0</td>\n",
              "    </tr>\n",
              "    <tr>\n",
              "      <th>...</th>\n",
              "      <td>...</td>\n",
              "      <td>...</td>\n",
              "      <td>...</td>\n",
              "      <td>...</td>\n",
              "      <td>...</td>\n",
              "      <td>...</td>\n",
              "      <td>...</td>\n",
              "    </tr>\n",
              "    <tr>\n",
              "      <th>495</th>\n",
              "      <td>37</td>\n",
              "      <td>108236</td>\n",
              "      <td>High School</td>\n",
              "      <td>455</td>\n",
              "      <td>44668</td>\n",
              "      <td>Education</td>\n",
              "      <td>1</td>\n",
              "    </tr>\n",
              "    <tr>\n",
              "      <th>496</th>\n",
              "      <td>41</td>\n",
              "      <td>117579</td>\n",
              "      <td>Bachelor</td>\n",
              "      <td>666</td>\n",
              "      <td>24177</td>\n",
              "      <td>Car</td>\n",
              "      <td>1</td>\n",
              "    </tr>\n",
              "    <tr>\n",
              "      <th>497</th>\n",
              "      <td>29</td>\n",
              "      <td>26469</td>\n",
              "      <td>PhD</td>\n",
              "      <td>550</td>\n",
              "      <td>25022</td>\n",
              "      <td>Medical</td>\n",
              "      <td>0</td>\n",
              "    </tr>\n",
              "    <tr>\n",
              "      <th>498</th>\n",
              "      <td>52</td>\n",
              "      <td>50105</td>\n",
              "      <td>High School</td>\n",
              "      <td>633</td>\n",
              "      <td>41761</td>\n",
              "      <td>Medical</td>\n",
              "      <td>0</td>\n",
              "    </tr>\n",
              "    <tr>\n",
              "      <th>499</th>\n",
              "      <td>50</td>\n",
              "      <td>62101</td>\n",
              "      <td>Bachelor</td>\n",
              "      <td>810</td>\n",
              "      <td>6542</td>\n",
              "      <td>Home</td>\n",
              "      <td>1</td>\n",
              "    </tr>\n",
              "  </tbody>\n",
              "</table>\n",
              "<p>500 rows × 7 columns</p>\n",
              "</div>\n",
              "    <div class=\"colab-df-buttons\">\n",
              "\n",
              "  <div class=\"colab-df-container\">\n",
              "    <button class=\"colab-df-convert\" onclick=\"convertToInteractive('df-81307402-c571-4180-8b04-8123d267c03c')\"\n",
              "            title=\"Convert this dataframe to an interactive table.\"\n",
              "            style=\"display:none;\">\n",
              "\n",
              "  <svg xmlns=\"http://www.w3.org/2000/svg\" height=\"24px\" viewBox=\"0 -960 960 960\">\n",
              "    <path d=\"M120-120v-720h720v720H120Zm60-500h600v-160H180v160Zm220 220h160v-160H400v160Zm0 220h160v-160H400v160ZM180-400h160v-160H180v160Zm440 0h160v-160H620v160ZM180-180h160v-160H180v160Zm440 0h160v-160H620v160Z\"/>\n",
              "  </svg>\n",
              "    </button>\n",
              "\n",
              "  <style>\n",
              "    .colab-df-container {\n",
              "      display:flex;\n",
              "      gap: 12px;\n",
              "    }\n",
              "\n",
              "    .colab-df-convert {\n",
              "      background-color: #E8F0FE;\n",
              "      border: none;\n",
              "      border-radius: 50%;\n",
              "      cursor: pointer;\n",
              "      display: none;\n",
              "      fill: #1967D2;\n",
              "      height: 32px;\n",
              "      padding: 0 0 0 0;\n",
              "      width: 32px;\n",
              "    }\n",
              "\n",
              "    .colab-df-convert:hover {\n",
              "      background-color: #E2EBFA;\n",
              "      box-shadow: 0px 1px 2px rgba(60, 64, 67, 0.3), 0px 1px 3px 1px rgba(60, 64, 67, 0.15);\n",
              "      fill: #174EA6;\n",
              "    }\n",
              "\n",
              "    .colab-df-buttons div {\n",
              "      margin-bottom: 4px;\n",
              "    }\n",
              "\n",
              "    [theme=dark] .colab-df-convert {\n",
              "      background-color: #3B4455;\n",
              "      fill: #D2E3FC;\n",
              "    }\n",
              "\n",
              "    [theme=dark] .colab-df-convert:hover {\n",
              "      background-color: #434B5C;\n",
              "      box-shadow: 0px 1px 3px 1px rgba(0, 0, 0, 0.15);\n",
              "      filter: drop-shadow(0px 1px 2px rgba(0, 0, 0, 0.3));\n",
              "      fill: #FFFFFF;\n",
              "    }\n",
              "  </style>\n",
              "\n",
              "    <script>\n",
              "      const buttonEl =\n",
              "        document.querySelector('#df-81307402-c571-4180-8b04-8123d267c03c button.colab-df-convert');\n",
              "      buttonEl.style.display =\n",
              "        google.colab.kernel.accessAllowed ? 'block' : 'none';\n",
              "\n",
              "      async function convertToInteractive(key) {\n",
              "        const element = document.querySelector('#df-81307402-c571-4180-8b04-8123d267c03c');\n",
              "        const dataTable =\n",
              "          await google.colab.kernel.invokeFunction('convertToInteractive',\n",
              "                                                    [key], {});\n",
              "        if (!dataTable) return;\n",
              "\n",
              "        const docLinkHtml = 'Like what you see? Visit the ' +\n",
              "          '<a target=\"_blank\" href=https://colab.research.google.com/notebooks/data_table.ipynb>data table notebook</a>'\n",
              "          + ' to learn more about interactive tables.';\n",
              "        element.innerHTML = '';\n",
              "        dataTable['output_type'] = 'display_data';\n",
              "        await google.colab.output.renderOutput(dataTable, element);\n",
              "        const docLink = document.createElement('div');\n",
              "        docLink.innerHTML = docLinkHtml;\n",
              "        element.appendChild(docLink);\n",
              "      }\n",
              "    </script>\n",
              "  </div>\n",
              "\n",
              "\n",
              "<div id=\"df-8c21bc33-b67e-463f-8c23-f65746ce5acc\">\n",
              "  <button class=\"colab-df-quickchart\" onclick=\"quickchart('df-8c21bc33-b67e-463f-8c23-f65746ce5acc')\"\n",
              "            title=\"Suggest charts\"\n",
              "            style=\"display:none;\">\n",
              "\n",
              "<svg xmlns=\"http://www.w3.org/2000/svg\" height=\"24px\"viewBox=\"0 0 24 24\"\n",
              "     width=\"24px\">\n",
              "    <g>\n",
              "        <path d=\"M19 3H5c-1.1 0-2 .9-2 2v14c0 1.1.9 2 2 2h14c1.1 0 2-.9 2-2V5c0-1.1-.9-2-2-2zM9 17H7v-7h2v7zm4 0h-2V7h2v10zm4 0h-2v-4h2v4z\"/>\n",
              "    </g>\n",
              "</svg>\n",
              "  </button>\n",
              "\n",
              "<style>\n",
              "  .colab-df-quickchart {\n",
              "      --bg-color: #E8F0FE;\n",
              "      --fill-color: #1967D2;\n",
              "      --hover-bg-color: #E2EBFA;\n",
              "      --hover-fill-color: #174EA6;\n",
              "      --disabled-fill-color: #AAA;\n",
              "      --disabled-bg-color: #DDD;\n",
              "  }\n",
              "\n",
              "  [theme=dark] .colab-df-quickchart {\n",
              "      --bg-color: #3B4455;\n",
              "      --fill-color: #D2E3FC;\n",
              "      --hover-bg-color: #434B5C;\n",
              "      --hover-fill-color: #FFFFFF;\n",
              "      --disabled-bg-color: #3B4455;\n",
              "      --disabled-fill-color: #666;\n",
              "  }\n",
              "\n",
              "  .colab-df-quickchart {\n",
              "    background-color: var(--bg-color);\n",
              "    border: none;\n",
              "    border-radius: 50%;\n",
              "    cursor: pointer;\n",
              "    display: none;\n",
              "    fill: var(--fill-color);\n",
              "    height: 32px;\n",
              "    padding: 0;\n",
              "    width: 32px;\n",
              "  }\n",
              "\n",
              "  .colab-df-quickchart:hover {\n",
              "    background-color: var(--hover-bg-color);\n",
              "    box-shadow: 0 1px 2px rgba(60, 64, 67, 0.3), 0 1px 3px 1px rgba(60, 64, 67, 0.15);\n",
              "    fill: var(--button-hover-fill-color);\n",
              "  }\n",
              "\n",
              "  .colab-df-quickchart-complete:disabled,\n",
              "  .colab-df-quickchart-complete:disabled:hover {\n",
              "    background-color: var(--disabled-bg-color);\n",
              "    fill: var(--disabled-fill-color);\n",
              "    box-shadow: none;\n",
              "  }\n",
              "\n",
              "  .colab-df-spinner {\n",
              "    border: 2px solid var(--fill-color);\n",
              "    border-color: transparent;\n",
              "    border-bottom-color: var(--fill-color);\n",
              "    animation:\n",
              "      spin 1s steps(1) infinite;\n",
              "  }\n",
              "\n",
              "  @keyframes spin {\n",
              "    0% {\n",
              "      border-color: transparent;\n",
              "      border-bottom-color: var(--fill-color);\n",
              "      border-left-color: var(--fill-color);\n",
              "    }\n",
              "    20% {\n",
              "      border-color: transparent;\n",
              "      border-left-color: var(--fill-color);\n",
              "      border-top-color: var(--fill-color);\n",
              "    }\n",
              "    30% {\n",
              "      border-color: transparent;\n",
              "      border-left-color: var(--fill-color);\n",
              "      border-top-color: var(--fill-color);\n",
              "      border-right-color: var(--fill-color);\n",
              "    }\n",
              "    40% {\n",
              "      border-color: transparent;\n",
              "      border-right-color: var(--fill-color);\n",
              "      border-top-color: var(--fill-color);\n",
              "    }\n",
              "    60% {\n",
              "      border-color: transparent;\n",
              "      border-right-color: var(--fill-color);\n",
              "    }\n",
              "    80% {\n",
              "      border-color: transparent;\n",
              "      border-right-color: var(--fill-color);\n",
              "      border-bottom-color: var(--fill-color);\n",
              "    }\n",
              "    90% {\n",
              "      border-color: transparent;\n",
              "      border-bottom-color: var(--fill-color);\n",
              "    }\n",
              "  }\n",
              "</style>\n",
              "\n",
              "  <script>\n",
              "    async function quickchart(key) {\n",
              "      const quickchartButtonEl =\n",
              "        document.querySelector('#' + key + ' button');\n",
              "      quickchartButtonEl.disabled = true;  // To prevent multiple clicks.\n",
              "      quickchartButtonEl.classList.add('colab-df-spinner');\n",
              "      try {\n",
              "        const charts = await google.colab.kernel.invokeFunction(\n",
              "            'suggestCharts', [key], {});\n",
              "      } catch (error) {\n",
              "        console.error('Error during call to suggestCharts:', error);\n",
              "      }\n",
              "      quickchartButtonEl.classList.remove('colab-df-spinner');\n",
              "      quickchartButtonEl.classList.add('colab-df-quickchart-complete');\n",
              "    }\n",
              "    (() => {\n",
              "      let quickchartButtonEl =\n",
              "        document.querySelector('#df-8c21bc33-b67e-463f-8c23-f65746ce5acc button');\n",
              "      quickchartButtonEl.style.display =\n",
              "        google.colab.kernel.accessAllowed ? 'block' : 'none';\n",
              "    })();\n",
              "  </script>\n",
              "</div>\n",
              "\n",
              "  <div id=\"id_6f1afaab-e49f-48d8-a65d-7c849b2ae11c\">\n",
              "    <style>\n",
              "      .colab-df-generate {\n",
              "        background-color: #E8F0FE;\n",
              "        border: none;\n",
              "        border-radius: 50%;\n",
              "        cursor: pointer;\n",
              "        display: none;\n",
              "        fill: #1967D2;\n",
              "        height: 32px;\n",
              "        padding: 0 0 0 0;\n",
              "        width: 32px;\n",
              "      }\n",
              "\n",
              "      .colab-df-generate:hover {\n",
              "        background-color: #E2EBFA;\n",
              "        box-shadow: 0px 1px 2px rgba(60, 64, 67, 0.3), 0px 1px 3px 1px rgba(60, 64, 67, 0.15);\n",
              "        fill: #174EA6;\n",
              "      }\n",
              "\n",
              "      [theme=dark] .colab-df-generate {\n",
              "        background-color: #3B4455;\n",
              "        fill: #D2E3FC;\n",
              "      }\n",
              "\n",
              "      [theme=dark] .colab-df-generate:hover {\n",
              "        background-color: #434B5C;\n",
              "        box-shadow: 0px 1px 3px 1px rgba(0, 0, 0, 0.15);\n",
              "        filter: drop-shadow(0px 1px 2px rgba(0, 0, 0, 0.3));\n",
              "        fill: #FFFFFF;\n",
              "      }\n",
              "    </style>\n",
              "    <button class=\"colab-df-generate\" onclick=\"generateWithVariable('df')\"\n",
              "            title=\"Generate code using this dataframe.\"\n",
              "            style=\"display:none;\">\n",
              "\n",
              "  <svg xmlns=\"http://www.w3.org/2000/svg\" height=\"24px\"viewBox=\"0 0 24 24\"\n",
              "       width=\"24px\">\n",
              "    <path d=\"M7,19H8.4L18.45,9,17,7.55,7,17.6ZM5,21V16.75L18.45,3.32a2,2,0,0,1,2.83,0l1.4,1.43a1.91,1.91,0,0,1,.58,1.4,1.91,1.91,0,0,1-.58,1.4L9.25,21ZM18.45,9,17,7.55Zm-12,3A5.31,5.31,0,0,0,4.9,8.1,5.31,5.31,0,0,0,1,6.5,5.31,5.31,0,0,0,4.9,4.9,5.31,5.31,0,0,0,6.5,1,5.31,5.31,0,0,0,8.1,4.9,5.31,5.31,0,0,0,12,6.5,5.46,5.46,0,0,0,6.5,12Z\"/>\n",
              "  </svg>\n",
              "    </button>\n",
              "    <script>\n",
              "      (() => {\n",
              "      const buttonEl =\n",
              "        document.querySelector('#id_6f1afaab-e49f-48d8-a65d-7c849b2ae11c button.colab-df-generate');\n",
              "      buttonEl.style.display =\n",
              "        google.colab.kernel.accessAllowed ? 'block' : 'none';\n",
              "\n",
              "      buttonEl.onclick = () => {\n",
              "        google.colab.notebook.generateWithVariable('df');\n",
              "      }\n",
              "      })();\n",
              "    </script>\n",
              "  </div>\n",
              "\n",
              "    </div>\n",
              "  </div>\n"
            ],
            "application/vnd.google.colaboratory.intrinsic+json": {
              "type": "dataframe",
              "variable_name": "df",
              "summary": "{\n  \"name\": \"df\",\n  \"rows\": 500,\n  \"fields\": [\n    {\n      \"column\": \"Age\",\n      \"properties\": {\n        \"dtype\": \"number\",\n        \"std\": 13,\n        \"min\": 18,\n        \"max\": 64,\n        \"num_unique_values\": 47,\n        \"samples\": [\n          24,\n          48,\n          54\n        ],\n        \"semantic_type\": \"\",\n        \"description\": \"\"\n      }\n    },\n    {\n      \"column\": \"Income\",\n      \"properties\": {\n        \"dtype\": \"number\",\n        \"std\": 28908,\n        \"min\": 20055,\n        \"max\": 119835,\n        \"num_unique_values\": 499,\n        \"samples\": [\n          23812,\n          83932,\n          90340\n        ],\n        \"semantic_type\": \"\",\n        \"description\": \"\"\n      }\n    },\n    {\n      \"column\": \"Education_Level\",\n      \"properties\": {\n        \"dtype\": \"category\",\n        \"num_unique_values\": 4,\n        \"samples\": [\n          \"Master\",\n          \"Bachelor\",\n          \"PhD\"\n        ],\n        \"semantic_type\": \"\",\n        \"description\": \"\"\n      }\n    },\n    {\n      \"column\": \"Credit_Score\",\n      \"properties\": {\n        \"dtype\": \"number\",\n        \"std\": 159,\n        \"min\": 301,\n        \"max\": 848,\n        \"num_unique_values\": 317,\n        \"samples\": [\n          788,\n          358,\n          397\n        ],\n        \"semantic_type\": \"\",\n        \"description\": \"\"\n      }\n    },\n    {\n      \"column\": \"Loan_Amount\",\n      \"properties\": {\n        \"dtype\": \"number\",\n        \"std\": 13931,\n        \"min\": 1125,\n        \"max\": 49938,\n        \"num_unique_values\": 495,\n        \"samples\": [\n          42568,\n          14380,\n          43828\n        ],\n        \"semantic_type\": \"\",\n        \"description\": \"\"\n      }\n    },\n    {\n      \"column\": \"Loan_Purpose\",\n      \"properties\": {\n        \"dtype\": \"category\",\n        \"num_unique_values\": 5,\n        \"samples\": [\n          \"Home\",\n          \"Education\",\n          \"Car\"\n        ],\n        \"semantic_type\": \"\",\n        \"description\": \"\"\n      }\n    },\n    {\n      \"column\": \"Loan_Approval\",\n      \"properties\": {\n        \"dtype\": \"number\",\n        \"std\": 0,\n        \"min\": 0,\n        \"max\": 1,\n        \"num_unique_values\": 2,\n        \"samples\": [\n          1,\n          0\n        ],\n        \"semantic_type\": \"\",\n        \"description\": \"\"\n      }\n    }\n  ]\n}"
            }
          },
          "metadata": {},
          "execution_count": 2
        }
      ],
      "source": [
        "df = pd.read_csv('/content/loan_approval_dataset.csv')\n",
        "df"
      ]
    },
    {
      "cell_type": "markdown",
      "metadata": {
        "id": "NtI7AUFTnSv1"
      },
      "source": [
        "#### Cek Missing Value"
      ]
    },
    {
      "cell_type": "code",
      "execution_count": 3,
      "metadata": {
        "colab": {
          "base_uri": "https://localhost:8080/",
          "height": 303
        },
        "id": "rP19WFDSKZR8",
        "outputId": "b52b89bf-106a-44c6-d7b5-430d93eb3ce8"
      },
      "outputs": [
        {
          "output_type": "execute_result",
          "data": {
            "text/plain": [
              "Age                0\n",
              "Income             0\n",
              "Education_Level    0\n",
              "Credit_Score       0\n",
              "Loan_Amount        0\n",
              "Loan_Purpose       0\n",
              "Loan_Approval      0\n",
              "dtype: int64"
            ],
            "text/html": [
              "<div>\n",
              "<style scoped>\n",
              "    .dataframe tbody tr th:only-of-type {\n",
              "        vertical-align: middle;\n",
              "    }\n",
              "\n",
              "    .dataframe tbody tr th {\n",
              "        vertical-align: top;\n",
              "    }\n",
              "\n",
              "    .dataframe thead th {\n",
              "        text-align: right;\n",
              "    }\n",
              "</style>\n",
              "<table border=\"1\" class=\"dataframe\">\n",
              "  <thead>\n",
              "    <tr style=\"text-align: right;\">\n",
              "      <th></th>\n",
              "      <th>0</th>\n",
              "    </tr>\n",
              "  </thead>\n",
              "  <tbody>\n",
              "    <tr>\n",
              "      <th>Age</th>\n",
              "      <td>0</td>\n",
              "    </tr>\n",
              "    <tr>\n",
              "      <th>Income</th>\n",
              "      <td>0</td>\n",
              "    </tr>\n",
              "    <tr>\n",
              "      <th>Education_Level</th>\n",
              "      <td>0</td>\n",
              "    </tr>\n",
              "    <tr>\n",
              "      <th>Credit_Score</th>\n",
              "      <td>0</td>\n",
              "    </tr>\n",
              "    <tr>\n",
              "      <th>Loan_Amount</th>\n",
              "      <td>0</td>\n",
              "    </tr>\n",
              "    <tr>\n",
              "      <th>Loan_Purpose</th>\n",
              "      <td>0</td>\n",
              "    </tr>\n",
              "    <tr>\n",
              "      <th>Loan_Approval</th>\n",
              "      <td>0</td>\n",
              "    </tr>\n",
              "  </tbody>\n",
              "</table>\n",
              "</div><br><label><b>dtype:</b> int64</label>"
            ]
          },
          "metadata": {},
          "execution_count": 3
        }
      ],
      "source": [
        "df.isnull().sum()"
      ]
    },
    {
      "cell_type": "markdown",
      "metadata": {
        "id": "GTyJgJ-jKr4O"
      },
      "source": [
        "Setelah di cek tidak terdapat missing value dalam dataset ini"
      ]
    },
    {
      "cell_type": "code",
      "execution_count": 4,
      "metadata": {
        "colab": {
          "base_uri": "https://localhost:8080/",
          "height": 300
        },
        "id": "yOR_1k_3Kk9h",
        "outputId": "3b92e02b-3ae2-4dee-e0aa-e3536dc9d424"
      },
      "outputs": [
        {
          "output_type": "execute_result",
          "data": {
            "text/plain": [
              "              Age        Income  Credit_Score   Loan_Amount  Loan_Approval\n",
              "count  500.000000     500.00000     500.00000    500.000000     500.000000\n",
              "mean    41.278000   67210.16800     572.37800  26526.744000       0.596000\n",
              "std     13.389072   28908.77426     159.71466  13931.322188       0.491189\n",
              "min     18.000000   20055.00000     301.00000   1125.000000       0.000000\n",
              "25%     30.000000   42534.25000     432.00000  13327.500000       0.000000\n",
              "50%     42.000000   64906.50000     584.00000  27985.500000       1.000000\n",
              "75%     52.000000   93071.25000     698.50000  38381.000000       1.000000\n",
              "max     64.000000  119835.00000     848.00000  49938.000000       1.000000"
            ],
            "text/html": [
              "\n",
              "  <div id=\"df-ad22c37b-8858-4dcb-8914-e6be6939ee7f\" class=\"colab-df-container\">\n",
              "    <div>\n",
              "<style scoped>\n",
              "    .dataframe tbody tr th:only-of-type {\n",
              "        vertical-align: middle;\n",
              "    }\n",
              "\n",
              "    .dataframe tbody tr th {\n",
              "        vertical-align: top;\n",
              "    }\n",
              "\n",
              "    .dataframe thead th {\n",
              "        text-align: right;\n",
              "    }\n",
              "</style>\n",
              "<table border=\"1\" class=\"dataframe\">\n",
              "  <thead>\n",
              "    <tr style=\"text-align: right;\">\n",
              "      <th></th>\n",
              "      <th>Age</th>\n",
              "      <th>Income</th>\n",
              "      <th>Credit_Score</th>\n",
              "      <th>Loan_Amount</th>\n",
              "      <th>Loan_Approval</th>\n",
              "    </tr>\n",
              "  </thead>\n",
              "  <tbody>\n",
              "    <tr>\n",
              "      <th>count</th>\n",
              "      <td>500.000000</td>\n",
              "      <td>500.00000</td>\n",
              "      <td>500.00000</td>\n",
              "      <td>500.000000</td>\n",
              "      <td>500.000000</td>\n",
              "    </tr>\n",
              "    <tr>\n",
              "      <th>mean</th>\n",
              "      <td>41.278000</td>\n",
              "      <td>67210.16800</td>\n",
              "      <td>572.37800</td>\n",
              "      <td>26526.744000</td>\n",
              "      <td>0.596000</td>\n",
              "    </tr>\n",
              "    <tr>\n",
              "      <th>std</th>\n",
              "      <td>13.389072</td>\n",
              "      <td>28908.77426</td>\n",
              "      <td>159.71466</td>\n",
              "      <td>13931.322188</td>\n",
              "      <td>0.491189</td>\n",
              "    </tr>\n",
              "    <tr>\n",
              "      <th>min</th>\n",
              "      <td>18.000000</td>\n",
              "      <td>20055.00000</td>\n",
              "      <td>301.00000</td>\n",
              "      <td>1125.000000</td>\n",
              "      <td>0.000000</td>\n",
              "    </tr>\n",
              "    <tr>\n",
              "      <th>25%</th>\n",
              "      <td>30.000000</td>\n",
              "      <td>42534.25000</td>\n",
              "      <td>432.00000</td>\n",
              "      <td>13327.500000</td>\n",
              "      <td>0.000000</td>\n",
              "    </tr>\n",
              "    <tr>\n",
              "      <th>50%</th>\n",
              "      <td>42.000000</td>\n",
              "      <td>64906.50000</td>\n",
              "      <td>584.00000</td>\n",
              "      <td>27985.500000</td>\n",
              "      <td>1.000000</td>\n",
              "    </tr>\n",
              "    <tr>\n",
              "      <th>75%</th>\n",
              "      <td>52.000000</td>\n",
              "      <td>93071.25000</td>\n",
              "      <td>698.50000</td>\n",
              "      <td>38381.000000</td>\n",
              "      <td>1.000000</td>\n",
              "    </tr>\n",
              "    <tr>\n",
              "      <th>max</th>\n",
              "      <td>64.000000</td>\n",
              "      <td>119835.00000</td>\n",
              "      <td>848.00000</td>\n",
              "      <td>49938.000000</td>\n",
              "      <td>1.000000</td>\n",
              "    </tr>\n",
              "  </tbody>\n",
              "</table>\n",
              "</div>\n",
              "    <div class=\"colab-df-buttons\">\n",
              "\n",
              "  <div class=\"colab-df-container\">\n",
              "    <button class=\"colab-df-convert\" onclick=\"convertToInteractive('df-ad22c37b-8858-4dcb-8914-e6be6939ee7f')\"\n",
              "            title=\"Convert this dataframe to an interactive table.\"\n",
              "            style=\"display:none;\">\n",
              "\n",
              "  <svg xmlns=\"http://www.w3.org/2000/svg\" height=\"24px\" viewBox=\"0 -960 960 960\">\n",
              "    <path d=\"M120-120v-720h720v720H120Zm60-500h600v-160H180v160Zm220 220h160v-160H400v160Zm0 220h160v-160H400v160ZM180-400h160v-160H180v160Zm440 0h160v-160H620v160ZM180-180h160v-160H180v160Zm440 0h160v-160H620v160Z\"/>\n",
              "  </svg>\n",
              "    </button>\n",
              "\n",
              "  <style>\n",
              "    .colab-df-container {\n",
              "      display:flex;\n",
              "      gap: 12px;\n",
              "    }\n",
              "\n",
              "    .colab-df-convert {\n",
              "      background-color: #E8F0FE;\n",
              "      border: none;\n",
              "      border-radius: 50%;\n",
              "      cursor: pointer;\n",
              "      display: none;\n",
              "      fill: #1967D2;\n",
              "      height: 32px;\n",
              "      padding: 0 0 0 0;\n",
              "      width: 32px;\n",
              "    }\n",
              "\n",
              "    .colab-df-convert:hover {\n",
              "      background-color: #E2EBFA;\n",
              "      box-shadow: 0px 1px 2px rgba(60, 64, 67, 0.3), 0px 1px 3px 1px rgba(60, 64, 67, 0.15);\n",
              "      fill: #174EA6;\n",
              "    }\n",
              "\n",
              "    .colab-df-buttons div {\n",
              "      margin-bottom: 4px;\n",
              "    }\n",
              "\n",
              "    [theme=dark] .colab-df-convert {\n",
              "      background-color: #3B4455;\n",
              "      fill: #D2E3FC;\n",
              "    }\n",
              "\n",
              "    [theme=dark] .colab-df-convert:hover {\n",
              "      background-color: #434B5C;\n",
              "      box-shadow: 0px 1px 3px 1px rgba(0, 0, 0, 0.15);\n",
              "      filter: drop-shadow(0px 1px 2px rgba(0, 0, 0, 0.3));\n",
              "      fill: #FFFFFF;\n",
              "    }\n",
              "  </style>\n",
              "\n",
              "    <script>\n",
              "      const buttonEl =\n",
              "        document.querySelector('#df-ad22c37b-8858-4dcb-8914-e6be6939ee7f button.colab-df-convert');\n",
              "      buttonEl.style.display =\n",
              "        google.colab.kernel.accessAllowed ? 'block' : 'none';\n",
              "\n",
              "      async function convertToInteractive(key) {\n",
              "        const element = document.querySelector('#df-ad22c37b-8858-4dcb-8914-e6be6939ee7f');\n",
              "        const dataTable =\n",
              "          await google.colab.kernel.invokeFunction('convertToInteractive',\n",
              "                                                    [key], {});\n",
              "        if (!dataTable) return;\n",
              "\n",
              "        const docLinkHtml = 'Like what you see? Visit the ' +\n",
              "          '<a target=\"_blank\" href=https://colab.research.google.com/notebooks/data_table.ipynb>data table notebook</a>'\n",
              "          + ' to learn more about interactive tables.';\n",
              "        element.innerHTML = '';\n",
              "        dataTable['output_type'] = 'display_data';\n",
              "        await google.colab.output.renderOutput(dataTable, element);\n",
              "        const docLink = document.createElement('div');\n",
              "        docLink.innerHTML = docLinkHtml;\n",
              "        element.appendChild(docLink);\n",
              "      }\n",
              "    </script>\n",
              "  </div>\n",
              "\n",
              "\n",
              "<div id=\"df-51193489-2136-41cf-b099-28c65c2f163e\">\n",
              "  <button class=\"colab-df-quickchart\" onclick=\"quickchart('df-51193489-2136-41cf-b099-28c65c2f163e')\"\n",
              "            title=\"Suggest charts\"\n",
              "            style=\"display:none;\">\n",
              "\n",
              "<svg xmlns=\"http://www.w3.org/2000/svg\" height=\"24px\"viewBox=\"0 0 24 24\"\n",
              "     width=\"24px\">\n",
              "    <g>\n",
              "        <path d=\"M19 3H5c-1.1 0-2 .9-2 2v14c0 1.1.9 2 2 2h14c1.1 0 2-.9 2-2V5c0-1.1-.9-2-2-2zM9 17H7v-7h2v7zm4 0h-2V7h2v10zm4 0h-2v-4h2v4z\"/>\n",
              "    </g>\n",
              "</svg>\n",
              "  </button>\n",
              "\n",
              "<style>\n",
              "  .colab-df-quickchart {\n",
              "      --bg-color: #E8F0FE;\n",
              "      --fill-color: #1967D2;\n",
              "      --hover-bg-color: #E2EBFA;\n",
              "      --hover-fill-color: #174EA6;\n",
              "      --disabled-fill-color: #AAA;\n",
              "      --disabled-bg-color: #DDD;\n",
              "  }\n",
              "\n",
              "  [theme=dark] .colab-df-quickchart {\n",
              "      --bg-color: #3B4455;\n",
              "      --fill-color: #D2E3FC;\n",
              "      --hover-bg-color: #434B5C;\n",
              "      --hover-fill-color: #FFFFFF;\n",
              "      --disabled-bg-color: #3B4455;\n",
              "      --disabled-fill-color: #666;\n",
              "  }\n",
              "\n",
              "  .colab-df-quickchart {\n",
              "    background-color: var(--bg-color);\n",
              "    border: none;\n",
              "    border-radius: 50%;\n",
              "    cursor: pointer;\n",
              "    display: none;\n",
              "    fill: var(--fill-color);\n",
              "    height: 32px;\n",
              "    padding: 0;\n",
              "    width: 32px;\n",
              "  }\n",
              "\n",
              "  .colab-df-quickchart:hover {\n",
              "    background-color: var(--hover-bg-color);\n",
              "    box-shadow: 0 1px 2px rgba(60, 64, 67, 0.3), 0 1px 3px 1px rgba(60, 64, 67, 0.15);\n",
              "    fill: var(--button-hover-fill-color);\n",
              "  }\n",
              "\n",
              "  .colab-df-quickchart-complete:disabled,\n",
              "  .colab-df-quickchart-complete:disabled:hover {\n",
              "    background-color: var(--disabled-bg-color);\n",
              "    fill: var(--disabled-fill-color);\n",
              "    box-shadow: none;\n",
              "  }\n",
              "\n",
              "  .colab-df-spinner {\n",
              "    border: 2px solid var(--fill-color);\n",
              "    border-color: transparent;\n",
              "    border-bottom-color: var(--fill-color);\n",
              "    animation:\n",
              "      spin 1s steps(1) infinite;\n",
              "  }\n",
              "\n",
              "  @keyframes spin {\n",
              "    0% {\n",
              "      border-color: transparent;\n",
              "      border-bottom-color: var(--fill-color);\n",
              "      border-left-color: var(--fill-color);\n",
              "    }\n",
              "    20% {\n",
              "      border-color: transparent;\n",
              "      border-left-color: var(--fill-color);\n",
              "      border-top-color: var(--fill-color);\n",
              "    }\n",
              "    30% {\n",
              "      border-color: transparent;\n",
              "      border-left-color: var(--fill-color);\n",
              "      border-top-color: var(--fill-color);\n",
              "      border-right-color: var(--fill-color);\n",
              "    }\n",
              "    40% {\n",
              "      border-color: transparent;\n",
              "      border-right-color: var(--fill-color);\n",
              "      border-top-color: var(--fill-color);\n",
              "    }\n",
              "    60% {\n",
              "      border-color: transparent;\n",
              "      border-right-color: var(--fill-color);\n",
              "    }\n",
              "    80% {\n",
              "      border-color: transparent;\n",
              "      border-right-color: var(--fill-color);\n",
              "      border-bottom-color: var(--fill-color);\n",
              "    }\n",
              "    90% {\n",
              "      border-color: transparent;\n",
              "      border-bottom-color: var(--fill-color);\n",
              "    }\n",
              "  }\n",
              "</style>\n",
              "\n",
              "  <script>\n",
              "    async function quickchart(key) {\n",
              "      const quickchartButtonEl =\n",
              "        document.querySelector('#' + key + ' button');\n",
              "      quickchartButtonEl.disabled = true;  // To prevent multiple clicks.\n",
              "      quickchartButtonEl.classList.add('colab-df-spinner');\n",
              "      try {\n",
              "        const charts = await google.colab.kernel.invokeFunction(\n",
              "            'suggestCharts', [key], {});\n",
              "      } catch (error) {\n",
              "        console.error('Error during call to suggestCharts:', error);\n",
              "      }\n",
              "      quickchartButtonEl.classList.remove('colab-df-spinner');\n",
              "      quickchartButtonEl.classList.add('colab-df-quickchart-complete');\n",
              "    }\n",
              "    (() => {\n",
              "      let quickchartButtonEl =\n",
              "        document.querySelector('#df-51193489-2136-41cf-b099-28c65c2f163e button');\n",
              "      quickchartButtonEl.style.display =\n",
              "        google.colab.kernel.accessAllowed ? 'block' : 'none';\n",
              "    })();\n",
              "  </script>\n",
              "</div>\n",
              "\n",
              "    </div>\n",
              "  </div>\n"
            ],
            "application/vnd.google.colaboratory.intrinsic+json": {
              "type": "dataframe",
              "summary": "{\n  \"name\": \"df\",\n  \"rows\": 8,\n  \"fields\": [\n    {\n      \"column\": \"Age\",\n      \"properties\": {\n        \"dtype\": \"number\",\n        \"std\": 164.46638441633004,\n        \"min\": 13.389072055262162,\n        \"max\": 500.0,\n        \"num_unique_values\": 8,\n        \"samples\": [\n          41.278,\n          42.0,\n          500.0\n        ],\n        \"semantic_type\": \"\",\n        \"description\": \"\"\n      }\n    },\n    {\n      \"column\": \"Income\",\n      \"properties\": {\n        \"dtype\": \"number\",\n        \"std\": 39508.88671638003,\n        \"min\": 500.0,\n        \"max\": 119835.0,\n        \"num_unique_values\": 8,\n        \"samples\": [\n          67210.168,\n          64906.5,\n          500.0\n        ],\n        \"semantic_type\": \"\",\n        \"description\": \"\"\n      }\n    },\n    {\n      \"column\": \"Credit_Score\",\n      \"properties\": {\n        \"dtype\": \"number\",\n        \"std\": 217.67528005483524,\n        \"min\": 159.71466013275887,\n        \"max\": 848.0,\n        \"num_unique_values\": 8,\n        \"samples\": [\n          572.378,\n          584.0,\n          500.0\n        ],\n        \"semantic_type\": \"\",\n        \"description\": \"\"\n      }\n    },\n    {\n      \"column\": \"Loan_Amount\",\n      \"properties\": {\n        \"dtype\": \"number\",\n        \"std\": 17489.68262046167,\n        \"min\": 500.0,\n        \"max\": 49938.0,\n        \"num_unique_values\": 8,\n        \"samples\": [\n          26526.744,\n          27985.5,\n          500.0\n        ],\n        \"semantic_type\": \"\",\n        \"description\": \"\"\n      }\n    },\n    {\n      \"column\": \"Loan_Approval\",\n      \"properties\": {\n        \"dtype\": \"number\",\n        \"std\": 176.5707505834438,\n        \"min\": 0.0,\n        \"max\": 500.0,\n        \"num_unique_values\": 5,\n        \"samples\": [\n          0.596,\n          1.0,\n          0.49118889753956474\n        ],\n        \"semantic_type\": \"\",\n        \"description\": \"\"\n      }\n    }\n  ]\n}"
            }
          },
          "metadata": {},
          "execution_count": 4
        }
      ],
      "source": [
        "df.describe()"
      ]
    },
    {
      "cell_type": "markdown",
      "metadata": {
        "id": "hOpgg_G6naKQ"
      },
      "source": [
        "#### Visualisasi Data"
      ]
    },
    {
      "cell_type": "code",
      "execution_count": 5,
      "metadata": {
        "colab": {
          "base_uri": "https://localhost:8080/",
          "height": 502
        },
        "id": "oRuHj_nQoLsW",
        "outputId": "95630d2d-ed7b-4266-a275-65b9acdaae0b"
      },
      "outputs": [
        {
          "output_type": "display_data",
          "data": {
            "text/plain": [
              "<Figure size 1200x800 with 4 Axes>"
            ],
            "image/png": "[encoded data removed]"
          },
          "metadata": {}
        }
      ],
      "source": [
        "numerical_features = ['Age', 'Income', 'Credit_Score', 'Loan_Amount']\n",
        "\n",
        "fig, axes = plt.subplots(2, 2, figsize=(12, 8))\n",
        "for idx, feature in enumerate(numerical_features):\n",
        "    ax = axes[idx // 2, idx % 2]\n",
        "    sns.histplot(\n",
        "        data=df,\n",
        "        x=feature,\n",
        "        hue='Loan_Approval',\n",
        "        bins=30,\n",
        "        multiple='stack',\n",
        "        palette='viridis',\n",
        "        edgecolor='black',\n",
        "        ax=ax\n",
        "    )\n",
        "    ax.set_title(f'Distribution of {feature} by Loan Approval')\n",
        "    ax.set_xlabel(feature)\n",
        "    ax.set_ylabel('Count')\n",
        "\n",
        "plt.tight_layout()\n",
        "plt.show()"
      ]
    },
    {
      "cell_type": "markdown",
      "metadata": {
        "id": "IZysTW5F0OFy"
      },
      "source": [
        "1. Terdapat tren bahwa pemohon dengan skor kredit lebih tinggi memiliki tingkat persetujuan pinjaman yang lebih besar, meskipun masih ada penolakan di semua rentang skor.\n",
        "\n",
        "2. Pendapatan dan usia tidak menunjukkan perbedaan signifikan dalam tingkat persetujuan.\n",
        "\n",
        "3. Pemohon dengan jumlah pinjaman yang lebih kecil cenderung memiliki tingkat persetujuan yang lebih tinggi dibandingkan dengan yang mengajukan jumlah besar."
      ]
    },
    {
      "cell_type": "code",
      "execution_count": 6,
      "metadata": {
        "colab": {
          "base_uri": "https://localhost:8080/",
          "height": 1000
        },
        "id": "1f402AfJolrA",
        "outputId": "ff7133a2-bd10-4845-f052-89cc242bdc27"
      },
      "outputs": [
        {
          "output_type": "display_data",
          "data": {
            "text/plain": [
              "<Figure size 1200x800 with 0 Axes>"
            ]
          },
          "metadata": {}
        },
        {
          "output_type": "display_data",
          "data": {
            "text/plain": [
              "<Figure size 640x480 with 1 Axes>"
            ],
            "image/png": "[encoded data removed]"
          },
          "metadata": {}
        },
        {
          "output_type": "display_data",
          "data": {
            "text/plain": [
              "<Figure size 1200x800 with 0 Axes>"
            ]
          },
          "metadata": {}
        },
        {
          "output_type": "display_data",
          "data": {
            "text/plain": [
              "<Figure size 640x480 with 1 Axes>"
            ],
            "image/png": "[encoded data removed]"
          },
          "metadata": {}
        }
      ],
      "source": [
        "categorical_features = ['Education_Level', 'Loan_Purpose']\n",
        "\n",
        "for cat_feature in categorical_features:\n",
        "    plt.figure(figsize=(12, 8))\n",
        "    cat_approval = df.groupby([cat_feature, 'Loan_Approval']).size().unstack()\n",
        "    cat_approval.plot(kind='bar', stacked=True, colormap='viridis', edgecolor='black')\n",
        "    plt.title(f'Loan Approval by {cat_feature}')\n",
        "    plt.xlabel(cat_feature)\n",
        "    plt.ylabel('Count')\n",
        "    plt.xticks(rotation=45)\n",
        "    plt.legend(title='Loan Approval', labels=['Rejected', 'Approved'])\n",
        "    plt.show()"
      ]
    },
    {
      "cell_type": "markdown",
      "metadata": {
        "id": "gyLNkCQL1tQI"
      },
      "source": [
        "1. Pendidikan dengan gelar Master tampaknya memiliki peluang persetujuan pinjaman yang lebih baik. Namun, perbedaan antar tingkat pendidikan tidak terlalu signifikan.\n",
        "\n",
        "2. Tujuan pinjaman cukup berpengaruh terhadap tingkat persetujuan. Pinjaman dengan tujuan yang lebih \"mendesak\" atau jelas seperti medis = cenderung disetujui lebih mudah dibandingkan tujuan pribadi."
      ]
    },
    {
      "cell_type": "code",
      "execution_count": 7,
      "metadata": {
        "colab": {
          "base_uri": "https://localhost:8080/",
          "height": 545
        },
        "id": "QO0lUlHdqjko",
        "outputId": "4aa2d93f-ba2f-46bd-cea3-70c3a318d517"
      },
      "outputs": [
        {
          "output_type": "display_data",
          "data": {
            "text/plain": [
              "<Figure size 800x600 with 2 Axes>"
            ],
            "image/png": "[encoded data removed]"
          },
          "metadata": {}
        }
      ],
      "source": [
        "numerical_features = ['Age', 'Income', 'Credit_Score', 'Loan_Amount', 'Loan_Approval']\n",
        "\n",
        "plt.figure(figsize=(8, 6))\n",
        "sns.heatmap(df[numerical_features].corr(), annot=True, cmap='coolwarm', fmt='.2f', linewidths=0.5)\n",
        "plt.title('Correlation Matrix of Loan Approval Features')\n",
        "plt.show()"
      ]
    },
    {
      "cell_type": "markdown",
      "metadata": {
        "id": "fAWrt2pv3xsP"
      },
      "source": [
        "Tidak ada variabel yang memiliki korelasi kuat dengan Loan Approval. Semua nilai korelasi dengan Loan_Approval sangat kecil, berkisar antara -0.04 hingga 0.01, yang berarti tidak ada hubungan linear yang signifikan antara faktor-faktor ini dengan persetujuan pinjaman.\n",
        "\n"
      ]
    },
    {
      "cell_type": "markdown",
      "metadata": {
        "id": "qJgSzgWgJBFV"
      },
      "source": [
        "### 2. Pemrosesan Data\n",
        "\n",
        "*   Lakukan encoding pada fitur kategorikal\n",
        "*   Lakukan feature scaling pada fitur numerik\n",
        "*   Bagi dataset menjadi training set (80%) dan testing set (20%).\n",
        "\n",
        "\n",
        "\n"
      ]
    },
    {
      "cell_type": "markdown",
      "metadata": {
        "id": "nuC8EMDmteJv"
      },
      "source": [
        "#### Encoding"
      ]
    },
    {
      "cell_type": "code",
      "execution_count": 8,
      "metadata": {
        "id": "NVeZbawqtbLC"
      },
      "outputs": [],
      "source": [
        "df_new = pd.get_dummies(df, columns=['Education_Level', 'Loan_Purpose'], drop_first=True)\n",
        "df_new = df_new.astype(int)"
      ]
    },
    {
      "cell_type": "markdown",
      "metadata": {
        "id": "y3ha7cwl4gyF"
      },
      "source": [
        "Setiap kategori unik dalam fitur yang di-encode akan menjadi kolom baru. Misalnya, fitur Education level dengan 4 kategori, setelah One-Hot Encoding, akan mendapatkan 3 kolom baru (karena menggunakan drop_first=True untuk menghindari multikolinearitas).\n",
        "\n",
        "Dengan kata lain jika memiliki fitur dengan n kategori, maka One-Hot Encoding akan menambah n-1 kolom baru ke dataset."
      ]
    },
    {
      "cell_type": "markdown",
      "source": [
        "#### Splitting dataset"
      ],
      "metadata": {
        "id": "TXZop8aBAt8Z"
      }
    },
    {
      "cell_type": "code",
      "source": [
        "X = df_new.drop(columns=['Loan_Approval'])\n",
        "y = df_new['Loan_Approval']\n",
        "\n",
        "X_train, X_test, y_train, y_test = train_test_split(X, y, test_size=0.2, random_state=42)"
      ],
      "metadata": {
        "id": "VjQglVCon7Af"
      },
      "execution_count": 9,
      "outputs": []
    },
    {
      "cell_type": "markdown",
      "source": [
        "Splitting ini memastikan bahwa model dapat belajar dengan baik dari data latih dan diuji pada data yang belum pernah dilihat, sehingga hasil prediksi lebih andal."
      ],
      "metadata": {
        "id": "E41IYd9ZAzoA"
      }
    },
    {
      "cell_type": "markdown",
      "metadata": {
        "id": "P7nLWi0Quic4"
      },
      "source": [
        "#### Scaling"
      ]
    },
    {
      "cell_type": "code",
      "source": [
        "scaler = StandardScaler()\n",
        "X_train_scaled = scaler.fit_transform(X_train)\n",
        "X_test_scaled = scaler.transform(X_test)"
      ],
      "metadata": {
        "id": "E1xwabmioUAT"
      },
      "execution_count": 10,
      "outputs": []
    },
    {
      "cell_type": "markdown",
      "metadata": {
        "id": "EgHtAZbK51O7"
      },
      "source": [
        "StandardScaler() digunakan untuk menstandarkan data dengan cara mengubahnya ke skala dengan mean = 0 dan standard deviation = 1\n",
        "\n",
        "Scaling ini memastikan bahwa semua fitur numerik memiliki skala yang sama, sehingga model machine learning dapat bekerja lebih optimal dan memberikan hasil yang lebih akurat."
      ]
    },
    {
      "cell_type": "markdown",
      "metadata": {
        "id": "y6Q_R6B1JV6n"
      },
      "source": [
        "### 3. Pemilihan dan Training Model\n",
        "*   Pilih minimal dua algoritma Machine Learning yang berbeda.\n",
        "*   Lakukan training model menggunakan dataset yang telah diproses.\n",
        "\n"
      ]
    },
    {
      "cell_type": "markdown",
      "metadata": {
        "id": "mzXsxc12wPx4"
      },
      "source": [
        "#### Logistic Regression\n",
        "\n",
        "Logistic Regression dipilih karena kemampuannya dalam menangani masalah klasifikasi biner dengan baik, terutama ketika hubungan antar fitur tidak terlalu kuat. Dari hasil analisis korelasi, tidak ditemukan hubungan yang sangat signifikan antar fitur, sehingga metode ini tetap efektif. Selain itu, logistic regression mudah diinterpretasikan, karena memberikan bobot pada setiap fitur, memungkinkan kita memahami sejauh mana faktor seperti usia, pendapatan, skor kredit, dan jumlah pinjaman memengaruhi keputusan persetujuan."
      ]
    },
    {
      "cell_type": "code",
      "execution_count": 12,
      "metadata": {
        "colab": {
          "base_uri": "https://localhost:8080/"
        },
        "id": "ugiNnumPwBmW",
        "outputId": "e3a29692-e3a7-4084-b1eb-b85502ac0205"
      },
      "outputs": [
        {
          "output_type": "stream",
          "name": "stdout",
          "text": [
            "Logistic Regression Accuracy: 0.58\n",
            "              precision    recall  f1-score   support\n",
            "\n",
            "           0       0.22      0.05      0.09        37\n",
            "           1       0.62      0.89      0.73        63\n",
            "\n",
            "    accuracy                           0.58       100\n",
            "   macro avg       0.42      0.47      0.41       100\n",
            "weighted avg       0.47      0.58      0.49       100\n",
            "\n"
          ]
        },
        {
          "output_type": "stream",
          "name": "stderr",
          "text": [
            "/usr/local/lib/python3.11/dist-packages/sklearn/linear_model/_logistic.py:465: ConvergenceWarning: lbfgs failed to converge (status=1):\n",
            "STOP: TOTAL NO. of ITERATIONS REACHED LIMIT.\n",
            "\n",
            "Increase the number of iterations (max_iter) or scale the data as shown in:\n",
            "    https://scikit-learn.org/stable/modules/preprocessing.html\n",
            "Please also refer to the documentation for alternative solver options:\n",
            "    https://scikit-learn.org/stable/modules/linear_model.html#logistic-regression\n",
            "  n_iter_i = _check_optimize_result(\n"
          ]
        }
      ],
      "source": [
        "log_reg = LogisticRegression()\n",
        "log_reg.fit(X_train, y_train)\n",
        "y_pred_log = log_reg.predict(X_test)\n",
        "print(\"Logistic Regression Accuracy:\", accuracy_score(y_test, y_pred_log))\n",
        "print(classification_report(y_test, y_pred_log))"
      ]
    },
    {
      "cell_type": "markdown",
      "source": [
        "Model ini memiliki recall tinggi untuk kelas 1 (89%), yang berarti cukup baik dalam mengidentifikasi pinjaman yang disetujui. Namun, performanya untuk kelas 0 sangat buruk dengan recall hanya 5%, sehingga model ini kurang seimbang."
      ],
      "metadata": {
        "id": "8ejiqxbbF19-"
      }
    },
    {
      "cell_type": "markdown",
      "metadata": {
        "id": "3P_mD-7Gwmyn"
      },
      "source": [
        "####  Random Forest Classifier\n",
        "\n",
        "Random Forest dipilih karena kemampuannya dalam menangkap pola non-linear dalam data. Algoritma ini menggunakan pendekatan ensemble dengan menggabungkan banyak pohon keputusan, sehingga lebih stabil dan tidak rentan terhadap overfitting dibandingkan decision tree tunggal. Selain itu, random forest mampu memberikan informasi mengenai feature importance, sehingga dapat membantu dalam memahami faktor-faktor utama yang berkontribusi dalam persetujuan pinjaman. Keunggulan lainnya adalah kemampuannya dalam menangani dataset dengan jumlah fitur yang tidak terlalu banyak, serta memberikan hasil yang lebih andal dalam kondisi data yang kompleks."
      ]
    },
    {
      "cell_type": "code",
      "execution_count": 13,
      "metadata": {
        "colab": {
          "base_uri": "https://localhost:8080/"
        },
        "id": "Zov5a2Etwin4",
        "outputId": "e1238adc-9bc9-4f9f-9856-85d211f49cf3"
      },
      "outputs": [
        {
          "output_type": "stream",
          "name": "stdout",
          "text": [
            "Random Forest Accuracy: 0.52\n",
            "              precision    recall  f1-score   support\n",
            "\n",
            "           0       0.34      0.32      0.33        37\n",
            "           1       0.62      0.63      0.62        63\n",
            "\n",
            "    accuracy                           0.52       100\n",
            "   macro avg       0.48      0.48      0.48       100\n",
            "weighted avg       0.51      0.52      0.52       100\n",
            "\n"
          ]
        }
      ],
      "source": [
        "rf_clf = RandomForestClassifier(n_estimators=100, random_state=42)\n",
        "rf_clf.fit(X_train, y_train)\n",
        "y_pred_rf = rf_clf.predict(X_test)\n",
        "print(\"Random Forest Accuracy:\", accuracy_score(y_test, y_pred_rf))\n",
        "print(classification_report(y_test, y_pred_rf))"
      ]
    },
    {
      "cell_type": "markdown",
      "source": [
        "Model ini memiliki performa lebih seimbang dibandingkan Logistic Regression, dengan recall yang lebih baik untuk kelas 0 (32%). Namun, akurasinya justru lebih rendah, hanya 52%.\n",
        "\n"
      ],
      "metadata": {
        "id": "_MGhUNvwF7Bp"
      }
    },
    {
      "cell_type": "markdown",
      "metadata": {
        "id": "FlKKvamT2G1K"
      },
      "source": [
        "#### Support Vector Machine\n",
        "\n",
        "Support Vector Machine (SVM) dipilih karena efektif dalam menangani data berdimensi kecil hingga sedang, seperti dataset yang digunakan dalam penelitian ini. Dengan menggunakan kernel trick, SVM dapat memodelkan hubungan yang tidak linear antara variabel independen dan keputusan persetujuan pinjaman. SVM juga bekerja lebih optimal pada data yang telah di-scaling, seperti yang telah dilakukan dalam tahap preprocessing."
      ]
    },
    {
      "cell_type": "code",
      "execution_count": 14,
      "metadata": {
        "colab": {
          "base_uri": "https://localhost:8080/"
        },
        "id": "gekqW8UvxuxP",
        "outputId": "ba85c332-b473-455f-beba-06196ca499ae"
      },
      "outputs": [
        {
          "output_type": "stream",
          "name": "stdout",
          "text": [
            "SVM Accuracy: 0.62\n",
            "              precision    recall  f1-score   support\n",
            "\n",
            "           0       0.43      0.08      0.14        37\n",
            "           1       0.63      0.94      0.76        63\n",
            "\n",
            "    accuracy                           0.62       100\n",
            "   macro avg       0.53      0.51      0.45       100\n",
            "weighted avg       0.56      0.62      0.53       100\n",
            "\n"
          ]
        }
      ],
      "source": [
        "svm_clf = SVC(kernel='linear', random_state=42)\n",
        "svm_clf.fit(X_train, y_train)\n",
        "y_pred_svm = svm_clf.predict(X_test)\n",
        "print(\"SVM Accuracy:\", accuracy_score(y_test, y_pred_svm))\n",
        "print(classification_report(y_test, y_pred_svm))"
      ]
    },
    {
      "cell_type": "markdown",
      "source": [
        "SVM memiliki akurasi tertinggi di antara model lainnya (62%). Namun, performa untuk kelas 0 sangat buruk dengan recall hanya 8%. Artinya, model ini lebih banyak mengklasifikasikan data sebagai kelas 1 (disetujui)."
      ],
      "metadata": {
        "id": "26_8h6LfF-n9"
      }
    },
    {
      "cell_type": "markdown",
      "metadata": {
        "id": "aC4d4JkM2RMt"
      },
      "source": [
        "#### XGBoost Classifier\n",
        "\n",
        "XGBoost Classifier dipilih karena dikenal sebagai salah satu metode boosting yang kuat dalam menangani masalah klasifikasi. Algoritma ini memiliki keunggulan dalam performa tinggi dan efisiensi komputasi, serta mampu menangani data yang tidak seimbang dengan baik menggunakan parameter scale_pos_weight. XGBoost sangat cocok untuk dataset yang memiliki jumlah fitur terbatas tetapi mengandung pola yang kompleks, sehingga memungkinkan model untuk menangkap hubungan yang lebih mendalam"
      ]
    },
    {
      "cell_type": "code",
      "source": [
        "xgboost = XGBClassifier(random_state=0)\n",
        "xgboost.fit(X_train, y_train)\n",
        "y_pred_xgb = xgboost.predict(X_test)\n",
        "y_pred_xgb_prob = xgboost.predict_proba(X_test)[:,1]\n",
        "accuracy = accuracy_score(y_test, y_pred_xgb)\n",
        "precision, recall, f1_score, support = precision_recall_fscore_support(y_test, y_pred_xgb)\n",
        "print(f'XGBoost Classifier Accuracy: {accuracy:.2f}')\n",
        "print(classification_report(y_test, y_pred_xgb))"
      ],
      "metadata": {
        "colab": {
          "base_uri": "https://localhost:8080/"
        },
        "id": "HfYmau3TPTAH",
        "outputId": "eaa91e29-058c-4c0f-c80a-baac2a8c7c2a"
      },
      "execution_count": 101,
      "outputs": [
        {
          "output_type": "stream",
          "name": "stdout",
          "text": [
            "XGBoost Classifier Accuracy: 0.53\n",
            "              precision    recall  f1-score   support\n",
            "\n",
            "           0       0.36      0.35      0.36        37\n",
            "           1       0.62      0.63      0.63        63\n",
            "\n",
            "    accuracy                           0.53       100\n",
            "   macro avg       0.49      0.49      0.49       100\n",
            "weighted avg       0.53      0.53      0.53       100\n",
            "\n"
          ]
        }
      ]
    },
    {
      "cell_type": "markdown",
      "source": [
        "XGBoost memiliki akurasi sedikit lebih baik dari Random Forest (53% vs 52%) dan performa lebih seimbang antara kelas 0 dan 1 dibandingkan Logistic Regression dan SVM."
      ],
      "metadata": {
        "id": "hp8LGM7RGJDE"
      }
    },
    {
      "cell_type": "markdown",
      "metadata": {
        "id": "Y2PN5RQOJiN2"
      },
      "source": [
        "### 4. Evaluasi Model\n",
        "\n",
        "\n",
        "*   Hitung dan bandingkan metric evaluasi dari model yang dipilih.\n",
        "*   Pilih model dengan performa terbaik untuk tahap tuning.\n",
        "\n",
        "\n"
      ]
    },
    {
      "cell_type": "code",
      "execution_count": 104,
      "metadata": {
        "colab": {
          "base_uri": "https://localhost:8080/"
        },
        "id": "U0K8l9CG3wiH",
        "outputId": "8be4dce4-56c5-44d0-b85b-88e884dbab91"
      },
      "outputs": [
        {
          "output_type": "stream",
          "name": "stdout",
          "text": [
            "                 Model  Accuracy  Precision    Recall  F1 Score\n",
            "0  Logistic Regression      0.58   0.418803  0.471471  0.407115\n",
            "1        Random Forest      0.52   0.479121  0.479622  0.479167\n",
            "2                  SVM      0.62   0.531490  0.508795  0.446387\n",
            "3   XGBoost Classifier      0.53   0.493056  0.493136  0.493043\n"
          ]
        }
      ],
      "source": [
        "from sklearn.metrics import accuracy_score, classification_report, precision_score, recall_score, f1_score, confusion_matrix, precision_recall_fscore_support\n",
        "\n",
        "evaluation_metrics = {\n",
        "    'Model': [],\n",
        "    'Accuracy': [],\n",
        "    'Precision': [],\n",
        "    'Recall': [],\n",
        "    'F1 Score': []\n",
        "}\n",
        "\n",
        "def evaluate_model(name, y_test, y_pred):\n",
        "    evaluation_metrics['Model'].append(name)\n",
        "    evaluation_metrics['Accuracy'].append(accuracy_score(y_test, y_pred))\n",
        "    evaluation_metrics['Precision'].append(precision_score(y_test, y_pred, average='macro', zero_division=0))\n",
        "    evaluation_metrics['Recall'].append(recall_score(y_test, y_pred, average='macro', zero_division=0))\n",
        "    # Call the f1_score function correctly using sklearn.metrics.f1_score:\n",
        "    evaluation_metrics['F1 Score'].append(f1_score(y_test, y_pred, average='macro', zero_division=0))\n",
        "\n",
        "evaluate_model('Logistic Regression', y_test, y_pred_log)\n",
        "evaluate_model('Random Forest', y_test, y_pred_rf)\n",
        "evaluate_model('SVM', y_test, y_pred_svm)\n",
        "evaluate_model('XGBoost Classifier', y_test, y_pred_xgb)\n",
        "\n",
        "eval_df = pd.DataFrame(evaluation_metrics)\n",
        "print(eval_df)"
      ]
    },
    {
      "cell_type": "markdown",
      "metadata": {
        "id": "wBVEyA6o8yrL"
      },
      "source": [
        "Dari hasil evaluasi ini, SVM memiliki akurasi tertinggi (62%), namun model ini mengalami ketidakseimbangan dalam mengenali kelas 0. Sedangkan XGBoost seimbangan antara dua kelas yang memiliki distribusi metrik yang lebih merata antara kelas 0 dan 1. Sehinngga tuning akan dilakukan pada model XGBoost\n",
        "\n"
      ]
    },
    {
      "cell_type": "markdown",
      "metadata": {
        "id": "yMdP3v_2Jvmp"
      },
      "source": [
        "### 5. Tuning Model dengan Grid Search atau Random Search\n",
        "\n",
        "*   Gunakan Grid Search atau Random Search untuk mencari kombinasi hyperparameter\n",
        "terbaik.\n",
        "*   Tampilkan kombinasi hyperparameter terbaik yang diperoleh.\n",
        "\n"
      ]
    },
    {
      "cell_type": "code",
      "source": [
        "!pip install scikit-learn\n",
        "from sklearn.model_selection import RandomizedSearchCV # Import the necessary class\n",
        "from xgboost import XGBClassifier"
      ],
      "metadata": {
        "colab": {
          "base_uri": "https://localhost:8080/"
        },
        "id": "Xu6DcJW1CtH2",
        "outputId": "97f1517d-d533-454d-d401-2f6e5c5bfdef"
      },
      "execution_count": 21,
      "outputs": [
        {
          "output_type": "stream",
          "name": "stdout",
          "text": [
            "Requirement already satisfied: scikit-learn in /usr/local/lib/python3.11/dist-packages (1.6.1)\n",
            "Requirement already satisfied: numpy>=1.19.5 in /usr/local/lib/python3.11/dist-packages (from scikit-learn) (1.26.4)\n",
            "Requirement already satisfied: scipy>=1.6.0 in /usr/local/lib/python3.11/dist-packages (from scikit-learn) (1.13.1)\n",
            "Requirement already satisfied: joblib>=1.2.0 in /usr/local/lib/python3.11/dist-packages (from scikit-learn) (1.4.2)\n",
            "Requirement already satisfied: threadpoolctl>=3.1.0 in /usr/local/lib/python3.11/dist-packages (from scikit-learn) (3.5.0)\n"
          ]
        }
      ]
    },
    {
      "cell_type": "code",
      "source": [
        "xgb_clf = XGBClassifier()"
      ],
      "metadata": {
        "id": "eoMJpKNl56ss"
      },
      "execution_count": 174,
      "outputs": []
    },
    {
      "cell_type": "code",
      "source": [
        "params = {\n",
        "    'n_estimators': [50, 100, 200],\n",
        "    'max_depth': [3, 5, 7],\n",
        "    'learning_rate': [0.01, 0.1, 0.2],\n",
        "    'subsample': [0.6, 0.8, 1.0],\n",
        "    'colsample_bytree': [0.6, 0.8, 1.0]\n",
        "}"
      ],
      "metadata": {
        "id": "zDNtDJHe6ybi"
      },
      "execution_count": 175,
      "outputs": []
    },
    {
      "cell_type": "code",
      "source": [
        "rs_model = RandomizedSearchCV(\n",
        "    estimator=xgb_clf,\n",
        "    param_distributions=params,\n",
        "    n_iter=25,\n",
        "    scoring='roc_auc',\n",
        "    n_jobs=1,\n",
        "    cv=5,\n",
        "    verbose=3,\n",
        "    random_state=42,\n",
        "    error_score='raise'\n",
        ")\n",
        "rs_model.fit(X_train, y_train)"
      ],
      "metadata": {
        "colab": {
          "base_uri": "https://localhost:8080/",
          "height": 1000
        },
        "id": "dysZGzkA6z4X",
        "outputId": "3089c0e6-e9ba-45a7-bc55-35e47206a7a7"
      },
      "execution_count": 188,
      "outputs": [
        {
          "output_type": "stream",
          "name": "stdout",
          "text": [
            "Fitting 5 folds for each of 25 candidates, totalling 125 fits\n",
            "[CV 1/5] END colsample_bytree=0.6, learning_rate=0.01, max_depth=7, n_estimators=200, subsample=0.6;, score=0.511 total time=   1.6s\n",
            "[CV 2/5] END colsample_bytree=0.6, learning_rate=0.01, max_depth=7, n_estimators=200, subsample=0.6;, score=0.536 total time=   1.2s\n",
            "[CV 3/5] END colsample_bytree=0.6, learning_rate=0.01, max_depth=7, n_estimators=200, subsample=0.6;, score=0.441 total time=   2.0s\n",
            "[CV 4/5] END colsample_bytree=0.6, learning_rate=0.01, max_depth=7, n_estimators=200, subsample=0.6;, score=0.621 total time=   0.1s\n",
            "[CV 5/5] END colsample_bytree=0.6, learning_rate=0.01, max_depth=7, n_estimators=200, subsample=0.6;, score=0.417 total time=   0.1s\n",
            "[CV 1/5] END colsample_bytree=0.6, learning_rate=0.01, max_depth=3, n_estimators=200, subsample=0.6;, score=0.554 total time=   0.1s\n",
            "[CV 2/5] END colsample_bytree=0.6, learning_rate=0.01, max_depth=3, n_estimators=200, subsample=0.6;, score=0.469 total time=   0.1s\n",
            "[CV 3/5] END colsample_bytree=0.6, learning_rate=0.01, max_depth=3, n_estimators=200, subsample=0.6;, score=0.433 total time=   0.1s\n",
            "[CV 4/5] END colsample_bytree=0.6, learning_rate=0.01, max_depth=3, n_estimators=200, subsample=0.6;, score=0.634 total time=   0.1s\n",
            "[CV 5/5] END colsample_bytree=0.6, learning_rate=0.01, max_depth=3, n_estimators=200, subsample=0.6;, score=0.406 total time=   0.1s\n",
            "[CV 1/5] END colsample_bytree=0.8, learning_rate=0.2, max_depth=5, n_estimators=200, subsample=1.0;, score=0.462 total time=   0.1s\n",
            "[CV 2/5] END colsample_bytree=0.8, learning_rate=0.2, max_depth=5, n_estimators=200, subsample=1.0;, score=0.519 total time=   0.1s\n",
            "[CV 3/5] END colsample_bytree=0.8, learning_rate=0.2, max_depth=5, n_estimators=200, subsample=1.0;, score=0.443 total time=   0.1s\n",
            "[CV 4/5] END colsample_bytree=0.8, learning_rate=0.2, max_depth=5, n_estimators=200, subsample=1.0;, score=0.538 total time=   0.1s\n",
            "[CV 5/5] END colsample_bytree=0.8, learning_rate=0.2, max_depth=5, n_estimators=200, subsample=1.0;, score=0.447 total time=   0.1s\n",
            "[CV 1/5] END colsample_bytree=1.0, learning_rate=0.2, max_depth=5, n_estimators=200, subsample=0.8;, score=0.488 total time=   0.1s\n",
            "[CV 2/5] END colsample_bytree=1.0, learning_rate=0.2, max_depth=5, n_estimators=200, subsample=0.8;, score=0.526 total time=   0.1s\n",
            "[CV 3/5] END colsample_bytree=1.0, learning_rate=0.2, max_depth=5, n_estimators=200, subsample=0.8;, score=0.478 total time=   0.1s\n",
            "[CV 4/5] END colsample_bytree=1.0, learning_rate=0.2, max_depth=5, n_estimators=200, subsample=0.8;, score=0.550 total time=   0.1s\n",
            "[CV 5/5] END colsample_bytree=1.0, learning_rate=0.2, max_depth=5, n_estimators=200, subsample=0.8;, score=0.479 total time=   0.1s\n",
            "[CV 1/5] END colsample_bytree=1.0, learning_rate=0.2, max_depth=7, n_estimators=100, subsample=0.8;, score=0.493 total time=   0.1s\n",
            "[CV 2/5] END colsample_bytree=1.0, learning_rate=0.2, max_depth=7, n_estimators=100, subsample=0.8;, score=0.538 total time=   0.1s\n",
            "[CV 3/5] END colsample_bytree=1.0, learning_rate=0.2, max_depth=7, n_estimators=100, subsample=0.8;, score=0.458 total time=   0.1s\n",
            "[CV 4/5] END colsample_bytree=1.0, learning_rate=0.2, max_depth=7, n_estimators=100, subsample=0.8;, score=0.558 total time=   0.1s\n",
            "[CV 5/5] END colsample_bytree=1.0, learning_rate=0.2, max_depth=7, n_estimators=100, subsample=0.8;, score=0.444 total time=   0.1s\n",
            "[CV 1/5] END colsample_bytree=1.0, learning_rate=0.01, max_depth=5, n_estimators=100, subsample=0.8;, score=0.564 total time=   0.1s\n",
            "[CV 2/5] END colsample_bytree=1.0, learning_rate=0.01, max_depth=5, n_estimators=100, subsample=0.8;, score=0.511 total time=   0.1s\n",
            "[CV 3/5] END colsample_bytree=1.0, learning_rate=0.01, max_depth=5, n_estimators=100, subsample=0.8;, score=0.478 total time=   0.1s\n",
            "[CV 4/5] END colsample_bytree=1.0, learning_rate=0.01, max_depth=5, n_estimators=100, subsample=0.8;, score=0.571 total time=   0.1s\n",
            "[CV 5/5] END colsample_bytree=1.0, learning_rate=0.01, max_depth=5, n_estimators=100, subsample=0.8;, score=0.439 total time=   0.1s\n",
            "[CV 1/5] END colsample_bytree=1.0, learning_rate=0.1, max_depth=7, n_estimators=200, subsample=1.0;, score=0.502 total time=   0.1s\n",
            "[CV 2/5] END colsample_bytree=1.0, learning_rate=0.1, max_depth=7, n_estimators=200, subsample=1.0;, score=0.516 total time=   0.1s\n",
            "[CV 3/5] END colsample_bytree=1.0, learning_rate=0.1, max_depth=7, n_estimators=200, subsample=1.0;, score=0.475 total time=   0.1s\n",
            "[CV 4/5] END colsample_bytree=1.0, learning_rate=0.1, max_depth=7, n_estimators=200, subsample=1.0;, score=0.547 total time=   0.1s\n",
            "[CV 5/5] END colsample_bytree=1.0, learning_rate=0.1, max_depth=7, n_estimators=200, subsample=1.0;, score=0.456 total time=   0.1s\n",
            "[CV 1/5] END colsample_bytree=0.8, learning_rate=0.2, max_depth=5, n_estimators=200, subsample=0.6;, score=0.458 total time=   0.1s\n",
            "[CV 2/5] END colsample_bytree=0.8, learning_rate=0.2, max_depth=5, n_estimators=200, subsample=0.6;, score=0.516 total time=   0.1s\n",
            "[CV 3/5] END colsample_bytree=0.8, learning_rate=0.2, max_depth=5, n_estimators=200, subsample=0.6;, score=0.445 total time=   0.1s\n",
            "[CV 4/5] END colsample_bytree=0.8, learning_rate=0.2, max_depth=5, n_estimators=200, subsample=0.6;, score=0.591 total time=   0.1s\n",
            "[CV 5/5] END colsample_bytree=0.8, learning_rate=0.2, max_depth=5, n_estimators=200, subsample=0.6;, score=0.487 total time=   0.1s\n",
            "[CV 1/5] END colsample_bytree=0.6, learning_rate=0.01, max_depth=5, n_estimators=50, subsample=0.6;, score=0.543 total time=   0.0s\n",
            "[CV 2/5] END colsample_bytree=0.6, learning_rate=0.01, max_depth=5, n_estimators=50, subsample=0.6;, score=0.485 total time=   0.0s\n",
            "[CV 3/5] END colsample_bytree=0.6, learning_rate=0.01, max_depth=5, n_estimators=50, subsample=0.6;, score=0.464 total time=   0.0s\n",
            "[CV 4/5] END colsample_bytree=0.6, learning_rate=0.01, max_depth=5, n_estimators=50, subsample=0.6;, score=0.576 total time=   0.0s\n",
            "[CV 5/5] END colsample_bytree=0.6, learning_rate=0.01, max_depth=5, n_estimators=50, subsample=0.6;, score=0.411 total time=   0.0s\n",
            "[CV 1/5] END colsample_bytree=0.8, learning_rate=0.1, max_depth=3, n_estimators=100, subsample=1.0;, score=0.567 total time=   0.0s\n",
            "[CV 2/5] END colsample_bytree=0.8, learning_rate=0.1, max_depth=3, n_estimators=100, subsample=1.0;, score=0.537 total time=   0.0s\n",
            "[CV 3/5] END colsample_bytree=0.8, learning_rate=0.1, max_depth=3, n_estimators=100, subsample=1.0;, score=0.494 total time=   0.0s\n",
            "[CV 4/5] END colsample_bytree=0.8, learning_rate=0.1, max_depth=3, n_estimators=100, subsample=1.0;, score=0.578 total time=   0.0s\n",
            "[CV 5/5] END colsample_bytree=0.8, learning_rate=0.1, max_depth=3, n_estimators=100, subsample=1.0;, score=0.458 total time=   0.0s\n",
            "[CV 1/5] END colsample_bytree=0.6, learning_rate=0.1, max_depth=7, n_estimators=50, subsample=0.6;, score=0.504 total time=   0.0s\n",
            "[CV 2/5] END colsample_bytree=0.6, learning_rate=0.1, max_depth=7, n_estimators=50, subsample=0.6;, score=0.516 total time=   0.0s\n",
            "[CV 3/5] END colsample_bytree=0.6, learning_rate=0.1, max_depth=7, n_estimators=50, subsample=0.6;, score=0.497 total time=   0.0s\n",
            "[CV 4/5] END colsample_bytree=0.6, learning_rate=0.1, max_depth=7, n_estimators=50, subsample=0.6;, score=0.623 total time=   0.0s\n",
            "[CV 5/5] END colsample_bytree=0.6, learning_rate=0.1, max_depth=7, n_estimators=50, subsample=0.6;, score=0.448 total time=   0.0s\n",
            "[CV 1/5] END colsample_bytree=1.0, learning_rate=0.1, max_depth=7, n_estimators=50, subsample=1.0;, score=0.527 total time=   0.1s\n",
            "[CV 2/5] END colsample_bytree=1.0, learning_rate=0.1, max_depth=7, n_estimators=50, subsample=1.0;, score=0.520 total time=   0.1s\n",
            "[CV 3/5] END colsample_bytree=1.0, learning_rate=0.1, max_depth=7, n_estimators=50, subsample=1.0;, score=0.488 total time=   0.1s\n",
            "[CV 4/5] END colsample_bytree=1.0, learning_rate=0.1, max_depth=7, n_estimators=50, subsample=1.0;, score=0.561 total time=   0.0s\n",
            "[CV 5/5] END colsample_bytree=1.0, learning_rate=0.1, max_depth=7, n_estimators=50, subsample=1.0;, score=0.469 total time=   0.1s\n",
            "[CV 1/5] END colsample_bytree=1.0, learning_rate=0.2, max_depth=5, n_estimators=50, subsample=1.0;, score=0.518 total time=   0.0s\n",
            "[CV 2/5] END colsample_bytree=1.0, learning_rate=0.2, max_depth=5, n_estimators=50, subsample=1.0;, score=0.507 total time=   0.0s\n",
            "[CV 3/5] END colsample_bytree=1.0, learning_rate=0.2, max_depth=5, n_estimators=50, subsample=1.0;, score=0.503 total time=   0.0s\n",
            "[CV 4/5] END colsample_bytree=1.0, learning_rate=0.2, max_depth=5, n_estimators=50, subsample=1.0;, score=0.531 total time=   0.0s\n",
            "[CV 5/5] END colsample_bytree=1.0, learning_rate=0.2, max_depth=5, n_estimators=50, subsample=1.0;, score=0.498 total time=   0.0s\n",
            "[CV 1/5] END colsample_bytree=1.0, learning_rate=0.01, max_depth=3, n_estimators=200, subsample=1.0;, score=0.632 total time=   0.1s\n",
            "[CV 2/5] END colsample_bytree=1.0, learning_rate=0.01, max_depth=3, n_estimators=200, subsample=1.0;, score=0.553 total time=   0.1s\n",
            "[CV 3/5] END colsample_bytree=1.0, learning_rate=0.01, max_depth=3, n_estimators=200, subsample=1.0;, score=0.518 total time=   0.1s\n",
            "[CV 4/5] END colsample_bytree=1.0, learning_rate=0.01, max_depth=3, n_estimators=200, subsample=1.0;, score=0.553 total time=   0.1s\n",
            "[CV 5/5] END colsample_bytree=1.0, learning_rate=0.01, max_depth=3, n_estimators=200, subsample=1.0;, score=0.460 total time=   0.1s\n",
            "[CV 1/5] END colsample_bytree=0.8, learning_rate=0.01, max_depth=3, n_estimators=50, subsample=0.8;, score=0.623 total time=   0.0s\n",
            "[CV 2/5] END colsample_bytree=0.8, learning_rate=0.01, max_depth=3, n_estimators=50, subsample=0.8;, score=0.509 total time=   0.0s\n",
            "[CV 3/5] END colsample_bytree=0.8, learning_rate=0.01, max_depth=3, n_estimators=50, subsample=0.8;, score=0.466 total time=   0.0s\n",
            "[CV 4/5] END colsample_bytree=0.8, learning_rate=0.01, max_depth=3, n_estimators=50, subsample=0.8;, score=0.540 total time=   0.0s\n",
            "[CV 5/5] END colsample_bytree=0.8, learning_rate=0.01, max_depth=3, n_estimators=50, subsample=0.8;, score=0.376 total time=   0.0s\n",
            "[CV 1/5] END colsample_bytree=0.8, learning_rate=0.2, max_depth=7, n_estimators=200, subsample=1.0;, score=0.477 total time=   0.1s\n",
            "[CV 2/5] END colsample_bytree=0.8, learning_rate=0.2, max_depth=7, n_estimators=200, subsample=1.0;, score=0.496 total time=   0.1s\n",
            "[CV 3/5] END colsample_bytree=0.8, learning_rate=0.2, max_depth=7, n_estimators=200, subsample=1.0;, score=0.448 total time=   0.1s\n",
            "[CV 4/5] END colsample_bytree=0.8, learning_rate=0.2, max_depth=7, n_estimators=200, subsample=1.0;, score=0.524 total time=   0.1s\n",
            "[CV 5/5] END colsample_bytree=0.8, learning_rate=0.2, max_depth=7, n_estimators=200, subsample=1.0;, score=0.473 total time=   0.1s\n",
            "[CV 1/5] END colsample_bytree=1.0, learning_rate=0.2, max_depth=7, n_estimators=50, subsample=1.0;, score=0.505 total time=   0.0s\n",
            "[CV 2/5] END colsample_bytree=1.0, learning_rate=0.2, max_depth=7, n_estimators=50, subsample=1.0;, score=0.508 total time=   0.0s\n",
            "[CV 3/5] END colsample_bytree=1.0, learning_rate=0.2, max_depth=7, n_estimators=50, subsample=1.0;, score=0.497 total time=   0.1s\n",
            "[CV 4/5] END colsample_bytree=1.0, learning_rate=0.2, max_depth=7, n_estimators=50, subsample=1.0;, score=0.543 total time=   0.0s\n",
            "[CV 5/5] END colsample_bytree=1.0, learning_rate=0.2, max_depth=7, n_estimators=50, subsample=1.0;, score=0.482 total time=   0.0s\n",
            "[CV 1/5] END colsample_bytree=0.6, learning_rate=0.01, max_depth=5, n_estimators=200, subsample=0.6;, score=0.535 total time=   0.1s\n",
            "[CV 2/5] END colsample_bytree=0.6, learning_rate=0.01, max_depth=5, n_estimators=200, subsample=0.6;, score=0.486 total time=   0.1s\n",
            "[CV 3/5] END colsample_bytree=0.6, learning_rate=0.01, max_depth=5, n_estimators=200, subsample=0.6;, score=0.458 total time=   0.1s\n",
            "[CV 4/5] END colsample_bytree=0.6, learning_rate=0.01, max_depth=5, n_estimators=200, subsample=0.6;, score=0.625 total time=   0.1s\n",
            "[CV 5/5] END colsample_bytree=0.6, learning_rate=0.01, max_depth=5, n_estimators=200, subsample=0.6;, score=0.425 total time=   0.1s\n",
            "[CV 1/5] END colsample_bytree=0.6, learning_rate=0.2, max_depth=5, n_estimators=100, subsample=0.6;, score=0.433 total time=   0.1s\n",
            "[CV 2/5] END colsample_bytree=0.6, learning_rate=0.2, max_depth=5, n_estimators=100, subsample=0.6;, score=0.481 total time=   0.1s\n",
            "[CV 3/5] END colsample_bytree=0.6, learning_rate=0.2, max_depth=5, n_estimators=100, subsample=0.6;, score=0.495 total time=   0.0s\n",
            "[CV 4/5] END colsample_bytree=0.6, learning_rate=0.2, max_depth=5, n_estimators=100, subsample=0.6;, score=0.569 total time=   0.1s\n",
            "[CV 5/5] END colsample_bytree=0.6, learning_rate=0.2, max_depth=5, n_estimators=100, subsample=0.6;, score=0.471 total time=   0.1s\n",
            "[CV 1/5] END colsample_bytree=0.8, learning_rate=0.1, max_depth=7, n_estimators=50, subsample=0.8;, score=0.504 total time=   0.0s\n",
            "[CV 2/5] END colsample_bytree=0.8, learning_rate=0.1, max_depth=7, n_estimators=50, subsample=0.8;, score=0.554 total time=   0.0s\n",
            "[CV 3/5] END colsample_bytree=0.8, learning_rate=0.1, max_depth=7, n_estimators=50, subsample=0.8;, score=0.515 total time=   0.0s\n",
            "[CV 4/5] END colsample_bytree=0.8, learning_rate=0.1, max_depth=7, n_estimators=50, subsample=0.8;, score=0.571 total time=   0.0s\n",
            "[CV 5/5] END colsample_bytree=0.8, learning_rate=0.1, max_depth=7, n_estimators=50, subsample=0.8;, score=0.460 total time=   0.0s\n",
            "[CV 1/5] END colsample_bytree=0.6, learning_rate=0.1, max_depth=3, n_estimators=200, subsample=0.6;, score=0.520 total time=   0.1s\n",
            "[CV 2/5] END colsample_bytree=0.6, learning_rate=0.1, max_depth=3, n_estimators=200, subsample=0.6;, score=0.517 total time=   0.1s\n",
            "[CV 3/5] END colsample_bytree=0.6, learning_rate=0.1, max_depth=3, n_estimators=200, subsample=0.6;, score=0.476 total time=   0.1s\n",
            "[CV 4/5] END colsample_bytree=0.6, learning_rate=0.1, max_depth=3, n_estimators=200, subsample=0.6;, score=0.607 total time=   0.1s\n",
            "[CV 5/5] END colsample_bytree=0.6, learning_rate=0.1, max_depth=3, n_estimators=200, subsample=0.6;, score=0.471 total time=   0.1s\n",
            "[CV 1/5] END colsample_bytree=0.6, learning_rate=0.01, max_depth=7, n_estimators=50, subsample=0.8;, score=0.529 total time=   1.3s\n",
            "[CV 2/5] END colsample_bytree=0.6, learning_rate=0.01, max_depth=7, n_estimators=50, subsample=0.8;, score=0.520 total time=   0.4s\n",
            "[CV 3/5] END colsample_bytree=0.6, learning_rate=0.01, max_depth=7, n_estimators=50, subsample=0.8;, score=0.477 total time=   0.3s\n",
            "[CV 4/5] END colsample_bytree=0.6, learning_rate=0.01, max_depth=7, n_estimators=50, subsample=0.8;, score=0.584 total time=   0.0s\n",
            "[CV 5/5] END colsample_bytree=0.6, learning_rate=0.01, max_depth=7, n_estimators=50, subsample=0.8;, score=0.422 total time=   0.0s\n",
            "[CV 1/5] END colsample_bytree=0.8, learning_rate=0.1, max_depth=3, n_estimators=50, subsample=0.6;, score=0.558 total time=   0.0s\n",
            "[CV 2/5] END colsample_bytree=0.8, learning_rate=0.1, max_depth=3, n_estimators=50, subsample=0.6;, score=0.458 total time=   0.0s\n",
            "[CV 3/5] END colsample_bytree=0.8, learning_rate=0.1, max_depth=3, n_estimators=50, subsample=0.6;, score=0.529 total time=   0.0s\n",
            "[CV 4/5] END colsample_bytree=0.8, learning_rate=0.1, max_depth=3, n_estimators=50, subsample=0.6;, score=0.653 total time=   0.0s\n",
            "[CV 5/5] END colsample_bytree=0.8, learning_rate=0.1, max_depth=3, n_estimators=50, subsample=0.6;, score=0.438 total time=   0.0s\n",
            "[CV 1/5] END colsample_bytree=0.6, learning_rate=0.1, max_depth=3, n_estimators=100, subsample=0.6;, score=0.515 total time=   0.0s\n",
            "[CV 2/5] END colsample_bytree=0.6, learning_rate=0.1, max_depth=3, n_estimators=100, subsample=0.6;, score=0.494 total time=   0.0s\n",
            "[CV 3/5] END colsample_bytree=0.6, learning_rate=0.1, max_depth=3, n_estimators=100, subsample=0.6;, score=0.467 total time=   0.0s\n",
            "[CV 4/5] END colsample_bytree=0.6, learning_rate=0.1, max_depth=3, n_estimators=100, subsample=0.6;, score=0.604 total time=   0.0s\n",
            "[CV 5/5] END colsample_bytree=0.6, learning_rate=0.1, max_depth=3, n_estimators=100, subsample=0.6;, score=0.459 total time=   0.0s\n",
            "[CV 1/5] END colsample_bytree=1.0, learning_rate=0.01, max_depth=7, n_estimators=100, subsample=1.0;, score=0.532 total time=   0.1s\n",
            "[CV 2/5] END colsample_bytree=1.0, learning_rate=0.01, max_depth=7, n_estimators=100, subsample=1.0;, score=0.520 total time=   0.1s\n",
            "[CV 3/5] END colsample_bytree=1.0, learning_rate=0.01, max_depth=7, n_estimators=100, subsample=1.0;, score=0.435 total time=   0.1s\n",
            "[CV 4/5] END colsample_bytree=1.0, learning_rate=0.01, max_depth=7, n_estimators=100, subsample=1.0;, score=0.547 total time=   0.1s\n",
            "[CV 5/5] END colsample_bytree=1.0, learning_rate=0.01, max_depth=7, n_estimators=100, subsample=1.0;, score=0.466 total time=   0.1s\n"
          ]
        },
        {
          "output_type": "execute_result",
          "data": {
            "text/plain": [
              "RandomizedSearchCV(cv=5, error_score='raise',\n",
              "                   estimator=XGBClassifier(base_score=None, booster=None,\n",
              "                                           callbacks=None,\n",
              "                                           colsample_bylevel=None,\n",
              "                                           colsample_bynode=None,\n",
              "                                           colsample_bytree=None, device=None,\n",
              "                                           early_stopping_rounds=None,\n",
              "                                           enable_categorical=False,\n",
              "                                           eval_metric=None, feature_types=None,\n",
              "                                           feature_weights=None, gamma=None,\n",
              "                                           grow_policy=None,\n",
              "                                           importance_type=None,\n",
              "                                           i...\n",
              "                                           min_child_weight=None, missing=nan,\n",
              "                                           monotone_constraints=None,\n",
              "                                           multi_strategy=None,\n",
              "                                           n_estimators=None, n_jobs=None,\n",
              "                                           num_parallel_tree=None, ...),\n",
              "                   n_iter=25, n_jobs=1,\n",
              "                   param_distributions={'colsample_bytree': [0.6, 0.8, 1.0],\n",
              "                                        'learning_rate': [0.01, 0.1, 0.2],\n",
              "                                        'max_depth': [3, 5, 7],\n",
              "                                        'n_estimators': [50, 100, 200],\n",
              "                                        'subsample': [0.6, 0.8, 1.0]},\n",
              "                   random_state=42, scoring='roc_auc', verbose=3)"
            ],
            "text/html": [
              "<style>#sk-container-id-26 {\n",
              "  /* Definition of color scheme common for light and dark mode */\n",
              "  --sklearn-color-text: #000;\n",
              "  --sklearn-color-text-muted: #666;\n",
              "  --sklearn-color-line: gray;\n",
              "  /* Definition of color scheme for unfitted estimators */\n",
              "  --sklearn-color-unfitted-level-0: #fff5e6;\n",
              "  --sklearn-color-unfitted-level-1: #f6e4d2;\n",
              "  --sklearn-color-unfitted-level-2: #ffe0b3;\n",
              "  --sklearn-color-unfitted-level-3: chocolate;\n",
              "  /* Definition of color scheme for fitted estimators */\n",
              "  --sklearn-color-fitted-level-0: #f0f8ff;\n",
              "  --sklearn-color-fitted-level-1: #d4ebff;\n",
              "  --sklearn-color-fitted-level-2: #b3dbfd;\n",
              "  --sklearn-color-fitted-level-3: cornflowerblue;\n",
              "\n",
              "  /* Specific color for light theme */\n",
              "  --sklearn-color-text-on-default-background: var(--sg-text-color, var(--theme-code-foreground, var(--jp-content-font-color1, black)));\n",
              "  --sklearn-color-background: var(--sg-background-color, var(--theme-background, var(--jp-layout-color0, white)));\n",
              "  --sklearn-color-border-box: var(--sg-text-color, var(--theme-code-foreground, var(--jp-content-font-color1, black)));\n",
              "  --sklearn-color-icon: #696969;\n",
              "\n",
              "  @media (prefers-color-scheme: dark) {\n",
              "    /* Redefinition of color scheme for dark theme */\n",
              "    --sklearn-color-text-on-default-background: var(--sg-text-color, var(--theme-code-foreground, var(--jp-content-font-color1, white)));\n",
              "    --sklearn-color-background: var(--sg-background-color, var(--theme-background, var(--jp-layout-color0, #111)));\n",
              "    --sklearn-color-border-box: var(--sg-text-color, var(--theme-code-foreground, var(--jp-content-font-color1, white)));\n",
              "    --sklearn-color-icon: #878787;\n",
              "  }\n",
              "}\n",
              "\n",
              "#sk-container-id-26 {\n",
              "  color: var(--sklearn-color-text);\n",
              "}\n",
              "\n",
              "#sk-container-id-26 pre {\n",
              "  padding: 0;\n",
              "}\n",
              "\n",
              "#sk-container-id-26 input.sk-hidden--visually {\n",
              "  border: 0;\n",
              "  clip: rect(1px 1px 1px 1px);\n",
              "  clip: rect(1px, 1px, 1px, 1px);\n",
              "  height: 1px;\n",
              "  margin: -1px;\n",
              "  overflow: hidden;\n",
              "  padding: 0;\n",
              "  position: absolute;\n",
              "  width: 1px;\n",
              "}\n",
              "\n",
              "#sk-container-id-26 div.sk-dashed-wrapped {\n",
              "  border: 1px dashed var(--sklearn-color-line);\n",
              "  margin: 0 0.4em 0.5em 0.4em;\n",
              "  box-sizing: border-box;\n",
              "  padding-bottom: 0.4em;\n",
              "  background-color: var(--sklearn-color-background);\n",
              "}\n",
              "\n",
              "#sk-container-id-26 div.sk-container {\n",
              "  /* jupyter's `normalize.less` sets `[hidden] { display: none; }`\n",
              "     but bootstrap.min.css set `[hidden] { display: none !important; }`\n",
              "     so we also need the `!important` here to be able to override the\n",
              "     default hidden behavior on the sphinx rendered scikit-learn.org.\n",
              "     See: https://github.com/scikit-learn/scikit-learn/issues/21755 */\n",
              "  display: inline-block !important;\n",
              "  position: relative;\n",
              "}\n",
              "\n",
              "#sk-container-id-26 div.sk-text-repr-fallback {\n",
              "  display: none;\n",
              "}\n",
              "\n",
              "div.sk-parallel-item,\n",
              "div.sk-serial,\n",
              "div.sk-item {\n",
              "  /* draw centered vertical line to link estimators */\n",
              "  background-image: linear-gradient(var(--sklearn-color-text-on-default-background), var(--sklearn-color-text-on-default-background));\n",
              "  background-size: 2px 100%;\n",
              "  background-repeat: no-repeat;\n",
              "  background-position: center center;\n",
              "}\n",
              "\n",
              "/* Parallel-specific style estimator block */\n",
              "\n",
              "#sk-container-id-26 div.sk-parallel-item::after {\n",
              "  content: \"\";\n",
              "  width: 100%;\n",
              "  border-bottom: 2px solid var(--sklearn-color-text-on-default-background);\n",
              "  flex-grow: 1;\n",
              "}\n",
              "\n",
              "#sk-container-id-26 div.sk-parallel {\n",
              "  display: flex;\n",
              "  align-items: stretch;\n",
              "  justify-content: center;\n",
              "  background-color: var(--sklearn-color-background);\n",
              "  position: relative;\n",
              "}\n",
              "\n",
              "#sk-container-id-26 div.sk-parallel-item {\n",
              "  display: flex;\n",
              "  flex-direction: column;\n",
              "}\n",
              "\n",
              "#sk-container-id-26 div.sk-parallel-item:first-child::after {\n",
              "  align-self: flex-end;\n",
              "  width: 50%;\n",
              "}\n",
              "\n",
              "#sk-container-id-26 div.sk-parallel-item:last-child::after {\n",
              "  align-self: flex-start;\n",
              "  width: 50%;\n",
              "}\n",
              "\n",
              "#sk-container-id-26 div.sk-parallel-item:only-child::after {\n",
              "  width: 0;\n",
              "}\n",
              "\n",
              "/* Serial-specific style estimator block */\n",
              "\n",
              "#sk-container-id-26 div.sk-serial {\n",
              "  display: flex;\n",
              "  flex-direction: column;\n",
              "  align-items: center;\n",
              "  background-color: var(--sklearn-color-background);\n",
              "  padding-right: 1em;\n",
              "  padding-left: 1em;\n",
              "}\n",
              "\n",
              "\n",
              "/* Toggleable style: style used for estimator/Pipeline/ColumnTransformer box that is\n",
              "clickable and can be expanded/collapsed.\n",
              "- Pipeline and ColumnTransformer use this feature and define the default style\n",
              "- Estimators will overwrite some part of the style using the `sk-estimator` class\n",
              "*/\n",
              "\n",
              "/* Pipeline and ColumnTransformer style (default) */\n",
              "\n",
              "#sk-container-id-26 div.sk-toggleable {\n",
              "  /* Default theme specific background. It is overwritten whether we have a\n",
              "  specific estimator or a Pipeline/ColumnTransformer */\n",
              "  background-color: var(--sklearn-color-background);\n",
              "}\n",
              "\n",
              "/* Toggleable label */\n",
              "#sk-container-id-26 label.sk-toggleable__label {\n",
              "  cursor: pointer;\n",
              "  display: flex;\n",
              "  width: 100%;\n",
              "  margin-bottom: 0;\n",
              "  padding: 0.5em;\n",
              "  box-sizing: border-box;\n",
              "  text-align: center;\n",
              "  align-items: start;\n",
              "  justify-content: space-between;\n",
              "  gap: 0.5em;\n",
              "}\n",
              "\n",
              "#sk-container-id-26 label.sk-toggleable__label .caption {\n",
              "  font-size: 0.6rem;\n",
              "  font-weight: lighter;\n",
              "  color: var(--sklearn-color-text-muted);\n",
              "}\n",
              "\n",
              "#sk-container-id-26 label.sk-toggleable__label-arrow:before {\n",
              "  /* Arrow on the left of the label */\n",
              "  content: \"▸\";\n",
              "  float: left;\n",
              "  margin-right: 0.25em;\n",
              "  color: var(--sklearn-color-icon);\n",
              "}\n",
              "\n",
              "#sk-container-id-26 label.sk-toggleable__label-arrow:hover:before {\n",
              "  color: var(--sklearn-color-text);\n",
              "}\n",
              "\n",
              "/* Toggleable content - dropdown */\n",
              "\n",
              "#sk-container-id-26 div.sk-toggleable__content {\n",
              "  max-height: 0;\n",
              "  max-width: 0;\n",
              "  overflow: hidden;\n",
              "  text-align: left;\n",
              "  /* unfitted */\n",
              "  background-color: var(--sklearn-color-unfitted-level-0);\n",
              "}\n",
              "\n",
              "#sk-container-id-26 div.sk-toggleable__content.fitted {\n",
              "  /* fitted */\n",
              "  background-color: var(--sklearn-color-fitted-level-0);\n",
              "}\n",
              "\n",
              "#sk-container-id-26 div.sk-toggleable__content pre {\n",
              "  margin: 0.2em;\n",
              "  border-radius: 0.25em;\n",
              "  color: var(--sklearn-color-text);\n",
              "  /* unfitted */\n",
              "  background-color: var(--sklearn-color-unfitted-level-0);\n",
              "}\n",
              "\n",
              "#sk-container-id-26 div.sk-toggleable__content.fitted pre {\n",
              "  /* unfitted */\n",
              "  background-color: var(--sklearn-color-fitted-level-0);\n",
              "}\n",
              "\n",
              "#sk-container-id-26 input.sk-toggleable__control:checked~div.sk-toggleable__content {\n",
              "  /* Expand drop-down */\n",
              "  max-height: 200px;\n",
              "  max-width: 100%;\n",
              "  overflow: auto;\n",
              "}\n",
              "\n",
              "#sk-container-id-26 input.sk-toggleable__control:checked~label.sk-toggleable__label-arrow:before {\n",
              "  content: \"▾\";\n",
              "}\n",
              "\n",
              "/* Pipeline/ColumnTransformer-specific style */\n",
              "\n",
              "#sk-container-id-26 div.sk-label input.sk-toggleable__control:checked~label.sk-toggleable__label {\n",
              "  color: var(--sklearn-color-text);\n",
              "  background-color: var(--sklearn-color-unfitted-level-2);\n",
              "}\n",
              "\n",
              "#sk-container-id-26 div.sk-label.fitted input.sk-toggleable__control:checked~label.sk-toggleable__label {\n",
              "  background-color: var(--sklearn-color-fitted-level-2);\n",
              "}\n",
              "\n",
              "/* Estimator-specific style */\n",
              "\n",
              "/* Colorize estimator box */\n",
              "#sk-container-id-26 div.sk-estimator input.sk-toggleable__control:checked~label.sk-toggleable__label {\n",
              "  /* unfitted */\n",
              "  background-color: var(--sklearn-color-unfitted-level-2);\n",
              "}\n",
              "\n",
              "#sk-container-id-26 div.sk-estimator.fitted input.sk-toggleable__control:checked~label.sk-toggleable__label {\n",
              "  /* fitted */\n",
              "  background-color: var(--sklearn-color-fitted-level-2);\n",
              "}\n",
              "\n",
              "#sk-container-id-26 div.sk-label label.sk-toggleable__label,\n",
              "#sk-container-id-26 div.sk-label label {\n",
              "  /* The background is the default theme color */\n",
              "  color: var(--sklearn-color-text-on-default-background);\n",
              "}\n",
              "\n",
              "/* On hover, darken the color of the background */\n",
              "#sk-container-id-26 div.sk-label:hover label.sk-toggleable__label {\n",
              "  color: var(--sklearn-color-text);\n",
              "  background-color: var(--sklearn-color-unfitted-level-2);\n",
              "}\n",
              "\n",
              "/* Label box, darken color on hover, fitted */\n",
              "#sk-container-id-26 div.sk-label.fitted:hover label.sk-toggleable__label.fitted {\n",
              "  color: var(--sklearn-color-text);\n",
              "  background-color: var(--sklearn-color-fitted-level-2);\n",
              "}\n",
              "\n",
              "/* Estimator label */\n",
              "\n",
              "#sk-container-id-26 div.sk-label label {\n",
              "  font-family: monospace;\n",
              "  font-weight: bold;\n",
              "  display: inline-block;\n",
              "  line-height: 1.2em;\n",
              "}\n",
              "\n",
              "#sk-container-id-26 div.sk-label-container {\n",
              "  text-align: center;\n",
              "}\n",
              "\n",
              "/* Estimator-specific */\n",
              "#sk-container-id-26 div.sk-estimator {\n",
              "  font-family: monospace;\n",
              "  border: 1px dotted var(--sklearn-color-border-box);\n",
              "  border-radius: 0.25em;\n",
              "  box-sizing: border-box;\n",
              "  margin-bottom: 0.5em;\n",
              "  /* unfitted */\n",
              "  background-color: var(--sklearn-color-unfitted-level-0);\n",
              "}\n",
              "\n",
              "#sk-container-id-26 div.sk-estimator.fitted {\n",
              "  /* fitted */\n",
              "  background-color: var(--sklearn-color-fitted-level-0);\n",
              "}\n",
              "\n",
              "/* on hover */\n",
              "#sk-container-id-26 div.sk-estimator:hover {\n",
              "  /* unfitted */\n",
              "  background-color: var(--sklearn-color-unfitted-level-2);\n",
              "}\n",
              "\n",
              "#sk-container-id-26 div.sk-estimator.fitted:hover {\n",
              "  /* fitted */\n",
              "  background-color: var(--sklearn-color-fitted-level-2);\n",
              "}\n",
              "\n",
              "/* Specification for estimator info (e.g. \"i\" and \"?\") */\n",
              "\n",
              "/* Common style for \"i\" and \"?\" */\n",
              "\n",
              ".sk-estimator-doc-link,\n",
              "a:link.sk-estimator-doc-link,\n",
              "a:visited.sk-estimator-doc-link {\n",
              "  float: right;\n",
              "  font-size: smaller;\n",
              "  line-height: 1em;\n",
              "  font-family: monospace;\n",
              "  background-color: var(--sklearn-color-background);\n",
              "  border-radius: 1em;\n",
              "  height: 1em;\n",
              "  width: 1em;\n",
              "  text-decoration: none !important;\n",
              "  margin-left: 0.5em;\n",
              "  text-align: center;\n",
              "  /* unfitted */\n",
              "  border: var(--sklearn-color-unfitted-level-1) 1pt solid;\n",
              "  color: var(--sklearn-color-unfitted-level-1);\n",
              "}\n",
              "\n",
              ".sk-estimator-doc-link.fitted,\n",
              "a:link.sk-estimator-doc-link.fitted,\n",
              "a:visited.sk-estimator-doc-link.fitted {\n",
              "  /* fitted */\n",
              "  border: var(--sklearn-color-fitted-level-1) 1pt solid;\n",
              "  color: var(--sklearn-color-fitted-level-1);\n",
              "}\n",
              "\n",
              "/* On hover */\n",
              "div.sk-estimator:hover .sk-estimator-doc-link:hover,\n",
              ".sk-estimator-doc-link:hover,\n",
              "div.sk-label-container:hover .sk-estimator-doc-link:hover,\n",
              ".sk-estimator-doc-link:hover {\n",
              "  /* unfitted */\n",
              "  background-color: var(--sklearn-color-unfitted-level-3);\n",
              "  color: var(--sklearn-color-background);\n",
              "  text-decoration: none;\n",
              "}\n",
              "\n",
              "div.sk-estimator.fitted:hover .sk-estimator-doc-link.fitted:hover,\n",
              ".sk-estimator-doc-link.fitted:hover,\n",
              "div.sk-label-container:hover .sk-estimator-doc-link.fitted:hover,\n",
              ".sk-estimator-doc-link.fitted:hover {\n",
              "  /* fitted */\n",
              "  background-color: var(--sklearn-color-fitted-level-3);\n",
              "  color: var(--sklearn-color-background);\n",
              "  text-decoration: none;\n",
              "}\n",
              "\n",
              "/* Span, style for the box shown on hovering the info icon */\n",
              ".sk-estimator-doc-link span {\n",
              "  display: none;\n",
              "  z-index: 9999;\n",
              "  position: relative;\n",
              "  font-weight: normal;\n",
              "  right: .2ex;\n",
              "  padding: .5ex;\n",
              "  margin: .5ex;\n",
              "  width: min-content;\n",
              "  min-width: 20ex;\n",
              "  max-width: 50ex;\n",
              "  color: var(--sklearn-color-text);\n",
              "  box-shadow: 2pt 2pt 4pt #999;\n",
              "  /* unfitted */\n",
              "  background: var(--sklearn-color-unfitted-level-0);\n",
              "  border: .5pt solid var(--sklearn-color-unfitted-level-3);\n",
              "}\n",
              "\n",
              ".sk-estimator-doc-link.fitted span {\n",
              "  /* fitted */\n",
              "  background: var(--sklearn-color-fitted-level-0);\n",
              "  border: var(--sklearn-color-fitted-level-3);\n",
              "}\n",
              "\n",
              ".sk-estimator-doc-link:hover span {\n",
              "  display: block;\n",
              "}\n",
              "\n",
              "/* \"?\"-specific style due to the `<a>` HTML tag */\n",
              "\n",
              "#sk-container-id-26 a.estimator_doc_link {\n",
              "  float: right;\n",
              "  font-size: 1rem;\n",
              "  line-height: 1em;\n",
              "  font-family: monospace;\n",
              "  background-color: var(--sklearn-color-background);\n",
              "  border-radius: 1rem;\n",
              "  height: 1rem;\n",
              "  width: 1rem;\n",
              "  text-decoration: none;\n",
              "  /* unfitted */\n",
              "  color: var(--sklearn-color-unfitted-level-1);\n",
              "  border: var(--sklearn-color-unfitted-level-1) 1pt solid;\n",
              "}\n",
              "\n",
              "#sk-container-id-26 a.estimator_doc_link.fitted {\n",
              "  /* fitted */\n",
              "  border: var(--sklearn-color-fitted-level-1) 1pt solid;\n",
              "  color: var(--sklearn-color-fitted-level-1);\n",
              "}\n",
              "\n",
              "/* On hover */\n",
              "#sk-container-id-26 a.estimator_doc_link:hover {\n",
              "  /* unfitted */\n",
              "  background-color: var(--sklearn-color-unfitted-level-3);\n",
              "  color: var(--sklearn-color-background);\n",
              "  text-decoration: none;\n",
              "}\n",
              "\n",
              "#sk-container-id-26 a.estimator_doc_link.fitted:hover {\n",
              "  /* fitted */\n",
              "  background-color: var(--sklearn-color-fitted-level-3);\n",
              "}\n",
              "</style><div id=\"sk-container-id-26\" class=\"sk-top-container\"><div class=\"sk-text-repr-fallback\"><pre>RandomizedSearchCV(cv=5, error_score=&#x27;raise&#x27;,\n",
              "                   estimator=XGBClassifier(base_score=None, booster=None,\n",
              "                                           callbacks=None,\n",
              "                                           colsample_bylevel=None,\n",
              "                                           colsample_bynode=None,\n",
              "                                           colsample_bytree=None, device=None,\n",
              "                                           early_stopping_rounds=None,\n",
              "                                           enable_categorical=False,\n",
              "                                           eval_metric=None, feature_types=None,\n",
              "                                           feature_weights=None, gamma=None,\n",
              "                                           grow_policy=None,\n",
              "                                           importance_type=None,\n",
              "                                           i...\n",
              "                                           min_child_weight=None, missing=nan,\n",
              "                                           monotone_constraints=None,\n",
              "                                           multi_strategy=None,\n",
              "                                           n_estimators=None, n_jobs=None,\n",
              "                                           num_parallel_tree=None, ...),\n",
              "                   n_iter=25, n_jobs=1,\n",
              "                   param_distributions={&#x27;colsample_bytree&#x27;: [0.6, 0.8, 1.0],\n",
              "                                        &#x27;learning_rate&#x27;: [0.01, 0.1, 0.2],\n",
              "                                        &#x27;max_depth&#x27;: [3, 5, 7],\n",
              "                                        &#x27;n_estimators&#x27;: [50, 100, 200],\n",
              "                                        &#x27;subsample&#x27;: [0.6, 0.8, 1.0]},\n",
              "                   random_state=42, scoring=&#x27;roc_auc&#x27;, verbose=3)</pre><b>In a Jupyter environment, please rerun this cell to show the HTML representation or trust the notebook. <br />On GitHub, the HTML representation is unable to render, please try loading this page with nbviewer.org.</b></div><div class=\"sk-container\" hidden><div class=\"sk-item sk-dashed-wrapped\"><div class=\"sk-label-container\"><div class=\"sk-label fitted sk-toggleable\"><input class=\"sk-toggleable__control sk-hidden--visually\" id=\"sk-estimator-id-74\" type=\"checkbox\" ><label for=\"sk-estimator-id-74\" class=\"sk-toggleable__label fitted sk-toggleable__label-arrow\"><div><div>RandomizedSearchCV</div></div><div><a class=\"sk-estimator-doc-link fitted\" rel=\"noreferrer\" target=\"_blank\" href=\"https://scikit-learn.org/1.6/modules/generated/sklearn.model_selection.RandomizedSearchCV.html\">?<span>Documentation for RandomizedSearchCV</span></a><span class=\"sk-estimator-doc-link fitted\">i<span>Fitted</span></span></div></label><div class=\"sk-toggleable__content fitted\"><pre>RandomizedSearchCV(cv=5, error_score=&#x27;raise&#x27;,\n",
              "                   estimator=XGBClassifier(base_score=None, booster=None,\n",
              "                                           callbacks=None,\n",
              "                                           colsample_bylevel=None,\n",
              "                                           colsample_bynode=None,\n",
              "                                           colsample_bytree=None, device=None,\n",
              "                                           early_stopping_rounds=None,\n",
              "                                           enable_categorical=False,\n",
              "                                           eval_metric=None, feature_types=None,\n",
              "                                           feature_weights=None, gamma=None,\n",
              "                                           grow_policy=None,\n",
              "                                           importance_type=None,\n",
              "                                           i...\n",
              "                                           min_child_weight=None, missing=nan,\n",
              "                                           monotone_constraints=None,\n",
              "                                           multi_strategy=None,\n",
              "                                           n_estimators=None, n_jobs=None,\n",
              "                                           num_parallel_tree=None, ...),\n",
              "                   n_iter=25, n_jobs=1,\n",
              "                   param_distributions={&#x27;colsample_bytree&#x27;: [0.6, 0.8, 1.0],\n",
              "                                        &#x27;learning_rate&#x27;: [0.01, 0.1, 0.2],\n",
              "                                        &#x27;max_depth&#x27;: [3, 5, 7],\n",
              "                                        &#x27;n_estimators&#x27;: [50, 100, 200],\n",
              "                                        &#x27;subsample&#x27;: [0.6, 0.8, 1.0]},\n",
              "                   random_state=42, scoring=&#x27;roc_auc&#x27;, verbose=3)</pre></div> </div></div><div class=\"sk-parallel\"><div class=\"sk-parallel-item\"><div class=\"sk-item\"><div class=\"sk-label-container\"><div class=\"sk-label fitted sk-toggleable\"><input class=\"sk-toggleable__control sk-hidden--visually\" id=\"sk-estimator-id-75\" type=\"checkbox\" ><label for=\"sk-estimator-id-75\" class=\"sk-toggleable__label fitted sk-toggleable__label-arrow\"><div><div>best_estimator_: XGBClassifier</div></div></label><div class=\"sk-toggleable__content fitted\"><pre>XGBClassifier(base_score=None, booster=None, callbacks=None,\n",
              "              colsample_bylevel=None, colsample_bynode=None,\n",
              "              colsample_bytree=1.0, device=None, early_stopping_rounds=None,\n",
              "              enable_categorical=False, eval_metric=None, feature_types=None,\n",
              "              feature_weights=None, gamma=None, grow_policy=None,\n",
              "              importance_type=None, interaction_constraints=None,\n",
              "              learning_rate=0.01, max_bin=None, max_cat_threshold=None,\n",
              "              max_cat_to_onehot=None, max_delta_step=None, max_depth=3,\n",
              "              max_leaves=None, min_child_weight=None, missing=nan,\n",
              "              monotone_constraints=None, multi_strategy=None, n_estimators=200,\n",
              "              n_jobs=None, num_parallel_tree=None, ...)</pre></div> </div></div><div class=\"sk-serial\"><div class=\"sk-item\"><div class=\"sk-estimator fitted sk-toggleable\"><input class=\"sk-toggleable__control sk-hidden--visually\" id=\"sk-estimator-id-76\" type=\"checkbox\" ><label for=\"sk-estimator-id-76\" class=\"sk-toggleable__label fitted sk-toggleable__label-arrow\"><div><div>XGBClassifier</div></div><div><a class=\"sk-estimator-doc-link fitted\" rel=\"noreferrer\" target=\"_blank\" href=\"https://xgboost.readthedocs.io/en/release_3.0.0/python/python_api.html#xgboost.XGBClassifier\">?<span>Documentation for XGBClassifier</span></a></div></label><div class=\"sk-toggleable__content fitted\"><pre>XGBClassifier(base_score=None, booster=None, callbacks=None,\n",
              "              colsample_bylevel=None, colsample_bynode=None,\n",
              "              colsample_bytree=1.0, device=None, early_stopping_rounds=None,\n",
              "              enable_categorical=False, eval_metric=None, feature_types=None,\n",
              "              feature_weights=None, gamma=None, grow_policy=None,\n",
              "              importance_type=None, interaction_constraints=None,\n",
              "              learning_rate=0.01, max_bin=None, max_cat_threshold=None,\n",
              "              max_cat_to_onehot=None, max_delta_step=None, max_depth=3,\n",
              "              max_leaves=None, min_child_weight=None, missing=nan,\n",
              "              monotone_constraints=None, multi_strategy=None, n_estimators=200,\n",
              "              n_jobs=None, num_parallel_tree=None, ...)</pre></div> </div></div></div></div></div></div></div></div></div>"
            ]
          },
          "metadata": {},
          "execution_count": 188
        }
      ]
    },
    {
      "cell_type": "code",
      "source": [
        "# Menampilkan parameter terbaik\n",
        "print(\"Best parameters found: \", rs_model.best_params_)"
      ],
      "metadata": {
        "colab": {
          "base_uri": "https://localhost:8080/"
        },
        "id": "80-64KcE7AXd",
        "outputId": "75cc118b-a44f-4d45-bb56-8cf5444684a5"
      },
      "execution_count": 189,
      "outputs": [
        {
          "output_type": "stream",
          "name": "stdout",
          "text": [
            "Best parameters found:  {'subsample': 1.0, 'n_estimators': 200, 'max_depth': 3, 'learning_rate': 0.01, 'colsample_bytree': 1.0}\n"
          ]
        }
      ]
    },
    {
      "cell_type": "markdown",
      "source": [
        "Hasil tuning menggunakan RandomizedSearchCV menunjukkan kombinasi hyperparameter terbaik untuk model XGBoostClassifier terdiri dari subsample 1.0, n_estimators 200, max_depth 3, learning_rate 0.01, dan colsample_bytree 1.0."
      ],
      "metadata": {
        "id": "elizUREOb5vZ"
      }
    },
    {
      "cell_type": "markdown",
      "source": [
        "### 6. Perbandingan Performa Sebelum dan Sesudah Tuning\n",
        "\n",
        "*   Bandingkan hasil evaluasi model sebelum dan sesudah tuning.\n",
        "*   Jelaskan apakah tuning berhasil meningkatkan performa model.\n",
        "\n"
      ],
      "metadata": {
        "id": "0outtbB_9rsO"
      }
    },
    {
      "cell_type": "code",
      "source": [
        "# Menggunakan model terbaik untuk prediksi\n",
        "best_xgb = rs_model.best_estimator_"
      ],
      "metadata": {
        "id": "XZ5JTYk56-l4"
      },
      "execution_count": 190,
      "outputs": []
    },
    {
      "cell_type": "code",
      "source": [
        "# Evaluasi model\n",
        "y_pred_xgb = best_xgb.predict(X_test)\n",
        "print(\"XGBoost Classifier Accuracy:\", accuracy_score(y_test, y_pred_xgb))\n",
        "print(classification_report(y_test, y_pred_xgb))"
      ],
      "metadata": {
        "colab": {
          "base_uri": "https://localhost:8080/"
        },
        "id": "2OzB4bW77DNz",
        "outputId": "6e1e7b63-d575-4e57-cf41-2d3166c8cd6b"
      },
      "execution_count": 191,
      "outputs": [
        {
          "output_type": "stream",
          "name": "stdout",
          "text": [
            "XGBoost Classifier Accuracy: 0.59\n",
            "              precision    recall  f1-score   support\n",
            "\n",
            "           0       0.17      0.03      0.05        37\n",
            "           1       0.62      0.92      0.74        63\n",
            "\n",
            "    accuracy                           0.59       100\n",
            "   macro avg       0.39      0.47      0.39       100\n",
            "weighted avg       0.45      0.59      0.48       100\n",
            "\n"
          ]
        }
      ]
    },
    {
      "cell_type": "markdown",
      "source": [
        "Setelah tuning, akurasi model meningkat dari 0.53 menjadi 0.59, yang menunjukkan adanya perbaikan performa. Namun, perbaikan ini tidak merata di semua metrik. Recall untuk kelas 1 meningkat signifikan dari 0.63 menjadi 0.92, menunjukkan bahwa model lebih baik dalam mengidentifikasi sampel positif. Namun, precision untuk kelas 0 menurun drastis dari 0.36 menjadi 0.17, yang berarti model lebih banyak salah mengklasifikasikan kelas 0 sebagai kelas 1.\n",
        "\n",
        "Secara keseluruhan, tuning berhasil meningkatkan kemampuan model dalam menangkap kasus positif (recall lebih tinggi), tetapi terjadi trade-off pada keseimbangan prediksi antara dua kelas, terutama dengan menurunnya performa untuk kelas 0."
      ],
      "metadata": {
        "id": "2srT46Ex-T9b"
      }
    }
  ],
  "metadata": {
    "colab": {
      "provenance": []
    },
    "kernelspec": {
      "display_name": "Python 3",
      "name": "python3"
    },
    "language_info": {
      "name": "python"
    }
  },
  "nbformat": 4,
  "nbformat_minor": 0
}